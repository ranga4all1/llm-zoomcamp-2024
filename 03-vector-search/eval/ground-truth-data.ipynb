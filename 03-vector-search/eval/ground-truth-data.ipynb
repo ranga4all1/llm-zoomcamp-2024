{
 "cells": [
  {
   "cell_type": "markdown",
   "id": "f1bc1f5a-39d1-4582-a016-bdc401424298",
   "metadata": {},
   "source": [
    "# ground-truth-data"
   ]
  },
  {
   "cell_type": "code",
   "execution_count": 1,
   "id": "c96b606d-2b5b-4085-aa0a-7f9f4cf63716",
   "metadata": {},
   "outputs": [],
   "source": [
    "import requests \n",
    "\n",
    "docs_url = 'https://github.com/DataTalksClub/llm-zoomcamp/blob/main/01-intro/documents.json?raw=1'\n",
    "docs_response = requests.get(docs_url)\n",
    "documents_raw = docs_response.json()\n",
    "\n",
    "documents = []\n",
    "\n",
    "for course in documents_raw:\n",
    "    course_name = course['course']\n",
    "\n",
    "    for doc in course['documents']:\n",
    "        doc['course'] = course_name\n",
    "        documents.append(doc)"
   ]
  },
  {
   "cell_type": "code",
   "execution_count": 4,
   "id": "3a3464b6-e7f9-4140-afe7-fb9ada881725",
   "metadata": {},
   "outputs": [
    {
     "data": {
      "text/plain": [
       "{'text': 'GitHub - DataTalksClub data-engineering-zoomcamp#prerequisites',\n",
       " 'section': 'General course-related questions',\n",
       " 'question': 'Course - What are the prerequisites for this course?',\n",
       " 'course': 'data-engineering-zoomcamp'}"
      ]
     },
     "execution_count": 4,
     "metadata": {},
     "output_type": "execute_result"
    }
   ],
   "source": [
    "documents[1]"
   ]
  },
  {
   "cell_type": "markdown",
   "id": "3b9abecd-2827-4210-a836-9ff2481ad8b6",
   "metadata": {},
   "source": [
    "### Add id"
   ]
  },
  {
   "cell_type": "code",
   "execution_count": 5,
   "id": "9f3f6345-91e0-4f41-ae15-201b890a9052",
   "metadata": {},
   "outputs": [],
   "source": [
    "import hashlib\n",
    "\n",
    "def generate_document_id(doc):\n",
    "    # combined = f\"{doc['course']}-{doc['question']}\"\n",
    "    combined = f\"{doc['course']}-{doc['question']}-{doc['text'][:10]}\"\n",
    "    hash_object = hashlib.md5(combined.encode())\n",
    "    hash_hex = hash_object.hexdigest()\n",
    "    document_id = hash_hex[:8]\n",
    "    return document_id\n"
   ]
  },
  {
   "cell_type": "code",
   "execution_count": 6,
   "id": "868c941b-51cb-4bdc-9f9d-659e01621e30",
   "metadata": {},
   "outputs": [],
   "source": [
    "for doc in documents:\n",
    "    doc['id'] = generate_document_id(doc)"
   ]
  },
  {
   "cell_type": "code",
   "execution_count": 7,
   "id": "e54060a7-c039-4b60-88ae-59b4090e3ff8",
   "metadata": {},
   "outputs": [
    {
     "data": {
      "text/plain": [
       "{'text': \"You don't need it. You're accepted. You can also just start learning and submitting homework without registering. It is not checked against any registered list. Registration is just to gauge interest before the start date.\",\n",
       " 'section': 'General course-related questions',\n",
       " 'question': 'Course - I have registered for the Data Engineering Bootcamp. When can I expect to receive the confirmation email?',\n",
       " 'course': 'data-engineering-zoomcamp',\n",
       " 'id': '0bbf41ec'}"
      ]
     },
     "execution_count": 7,
     "metadata": {},
     "output_type": "execute_result"
    }
   ],
   "source": [
    "documents[3]"
   ]
  },
  {
   "cell_type": "markdown",
   "id": "5d835169-2bd2-49d4-a881-5e6d70e5df1c",
   "metadata": {},
   "source": [
    "### Vefify uniqueness if id's/hashes"
   ]
  },
  {
   "cell_type": "code",
   "execution_count": 8,
   "id": "9a386307-1510-4625-9028-5a3c6f6b4b2e",
   "metadata": {},
   "outputs": [],
   "source": [
    "from collections import defaultdict"
   ]
  },
  {
   "cell_type": "code",
   "execution_count": 9,
   "id": "7748e40d-4f47-46da-afc6-a40f2abc9751",
   "metadata": {},
   "outputs": [],
   "source": [
    "hashes = defaultdict(list)\n",
    "\n",
    "for doc in documents:\n",
    "    doc_id = doc['id']\n",
    "    hashes[doc_id].append(doc)"
   ]
  },
  {
   "cell_type": "code",
   "execution_count": 12,
   "id": "68a32e69-6ca5-4371-9398-fb460042f554",
   "metadata": {},
   "outputs": [
    {
     "data": {
      "text/plain": [
       "(947, 948)"
      ]
     },
     "execution_count": 12,
     "metadata": {},
     "output_type": "execute_result"
    }
   ],
   "source": [
    "len(hashes), len(documents)"
   ]
  },
  {
   "cell_type": "code",
   "execution_count": 14,
   "id": "dbeb4156-7bbf-4a7a-8529-1b4c9478c044",
   "metadata": {},
   "outputs": [
    {
     "name": "stdout",
     "output_type": "stream",
     "text": [
      "593f7569 2\n"
     ]
    }
   ],
   "source": [
    "for k, values in hashes.items():\n",
    "    if len(values) > 1:\n",
    "        print(k, len(values))"
   ]
  },
  {
   "cell_type": "code",
   "execution_count": 16,
   "id": "47d4d150-b931-45d8-9df2-4de6e1f9702a",
   "metadata": {},
   "outputs": [
    {
     "data": {
      "text/plain": [
       "[{'text': \"They both do the same, it's just less typing from the script.\\nAsked by Andrew Katoch, Added by Edidiong Esu\",\n",
       "  'section': '6. Decision Trees and Ensemble Learning',\n",
       "  'question': 'Does it matter if we let the Python file create the server or if we run gunicorn directly?',\n",
       "  'course': 'machine-learning-zoomcamp',\n",
       "  'id': '593f7569'},\n",
       " {'text': \"They both do the same, it's just less typing from the script.\",\n",
       "  'section': '6. Decision Trees and Ensemble Learning',\n",
       "  'question': 'Does it matter if we let the Python file create the server or if we run gunicorn directly?',\n",
       "  'course': 'machine-learning-zoomcamp',\n",
       "  'id': '593f7569'}]"
      ]
     },
     "execution_count": 16,
     "metadata": {},
     "output_type": "execute_result"
    }
   ],
   "source": [
    "hashes[\"593f7569\"]"
   ]
  },
  {
   "cell_type": "markdown",
   "id": "ca9b11e0-baac-4270-9aa3-17eeb1e877d8",
   "metadata": {},
   "source": [
    "Question is same/duplicate for both hashes, so we can safely ignore this. Ideally, we should fix original dataset by merging duplicate questions etc."
   ]
  },
  {
   "cell_type": "markdown",
   "id": "76846659-db1c-48a4-b24a-8441a10309dd",
   "metadata": {},
   "source": [
    "## Generating ground truth data"
   ]
  },
  {
   "cell_type": "code",
   "execution_count": 17,
   "id": "3a6ad24e-8760-4775-aabd-a725b1296956",
   "metadata": {},
   "outputs": [],
   "source": [
    "import json"
   ]
  },
  {
   "cell_type": "code",
   "execution_count": 21,
   "id": "84195dc3-f5a9-4237-9aab-0efc3c351d4e",
   "metadata": {},
   "outputs": [],
   "source": [
    "# save file\n",
    "with open('documents-with-ids.json', 'wt') as f_out:\n",
    "    json.dump(documents, f_out, indent=2)"
   ]
  },
  {
   "cell_type": "code",
   "execution_count": 22,
   "id": "03ecb453-c923-49b0-ad64-a1855c30ad53",
   "metadata": {},
   "outputs": [
    {
     "name": "stdout",
     "output_type": "stream",
     "text": [
      "[\n",
      "  {\n",
      "    \"text\": \"The purpose of this document is to capture frequently asked technical questions\\nThe exact day and hour of the course will be 15th Jan 2024 at 17h00. The course will start with the first  \\u201cOffice Hours'' live.1\\nSubscribe to course public Google Calendar (it works from Desktop only).\\nRegister before the course starts using this link.\\nJoin the course Telegram channel with announcements.\\nDon\\u2019t forget to register in DataTalks.Club's Slack and join the channel.\",\n",
      "    \"section\": \"General course-related questions\",\n",
      "    \"question\": \"Course - When will the course start?\",\n",
      "    \"course\": \"data-engineering-zoomcamp\",\n",
      "    \"id\": \"c02e79ef\"\n",
      "  },\n",
      "  {\n",
      "    \"text\": \"GitHub - DataTalksClub data-engineering-zoomcamp#prerequisites\",\n"
     ]
    }
   ],
   "source": [
    "!head documents-with-ids.json"
   ]
  },
  {
   "cell_type": "code",
   "execution_count": 23,
   "id": "ac6330a4-d5d2-4be1-bab4-07a56d6ec8ea",
   "metadata": {},
   "outputs": [],
   "source": [
    "prompt_template = \"\"\"\n",
    "You emulate a student who's taking our course.\n",
    "Formulate 5 questions this student might ask based on a FAQ record. The record\n",
    "should contain the answer to the questions, and the questions should be complete and not too short.\n",
    "If possible, use as fewer words as possible from the record. \n",
    "\n",
    "The record:\n",
    "\n",
    "section: {section}\n",
    "question: {question}\n",
    "answer: {text}\n",
    "\n",
    "Provide the output in parsable JSON without using code blocks:\n",
    "\n",
    "[\"question1\", \"question2\", ..., \"question5\"]\n",
    "\"\"\".strip()"
   ]
  },
  {
   "cell_type": "code",
   "execution_count": 27,
   "id": "1a66326e-5f51-44bd-980b-286ded678387",
   "metadata": {},
   "outputs": [],
   "source": [
    "from openai import OpenAI\n",
    "client = OpenAI(api_key='your_key')"
   ]
  },
  {
   "cell_type": "markdown",
   "id": "b559c4e5-5e6e-4a52-ae12-6ae799254e15",
   "metadata": {},
   "source": [
    "### Let's try for 1 document first"
   ]
  },
  {
   "cell_type": "code",
   "execution_count": 28,
   "id": "77626f5a-5c25-451b-b9cb-13fc689aee58",
   "metadata": {},
   "outputs": [
    {
     "name": "stdout",
     "output_type": "stream",
     "text": [
      "You emulate a student who's taking our course.\n",
      "Formulate 5 questions this student might ask based on a FAQ record. The record\n",
      "should contain the answer to the questions, and the questions should be complete and not too short.\n",
      "If possible, use as fewer words as possible from the record. \n",
      "\n",
      "The record:\n",
      "\n",
      "section: General course-related questions\n",
      "question: Course - Can I still join the course after the start date?\n",
      "answer: Yes, even if you don't register, you're still eligible to submit the homeworks.\n",
      "Be aware, however, that there will be deadlines for turning in the final projects. So don't leave everything for the last minute.\n",
      "\n",
      "Provide the output in parsable JSON without using code blocks:\n",
      "\n",
      "[\"question1\", \"question2\", ..., \"question5\"]\n"
     ]
    }
   ],
   "source": [
    "doc = documents[2]\n",
    "prompt = prompt_template.format(**doc)\n",
    "\n",
    "print(prompt)"
   ]
  },
  {
   "cell_type": "code",
   "execution_count": 32,
   "id": "dcfc457a-d5c4-4103-a6ab-c4ea522850ee",
   "metadata": {},
   "outputs": [
    {
     "data": {
      "text/plain": [
       "'[\"Can I join the course after it starts?\", \"Am I eligible to submit homeworks without registration?\", \"Are there deadlines for final projects?\", \"Should I be aware of final project deadlines even if I join late?\", \"Can I turn in everything at the last minute?\"]'"
      ]
     },
     "execution_count": 32,
     "metadata": {},
     "output_type": "execute_result"
    }
   ],
   "source": [
    "response = client.chat.completions.create(\n",
    "    model='gpt-4o',\n",
    "    messages=[{\"role\": \"user\", \"content\": prompt}]\n",
    ")\n",
    "\n",
    "json_response = response.choices[0].message.content\n",
    "\n",
    "json_response"
   ]
  },
  {
   "cell_type": "code",
   "execution_count": 33,
   "id": "8a8c5218-8bf1-4038-9580-97bd27febebf",
   "metadata": {},
   "outputs": [
    {
     "data": {
      "text/plain": [
       "['Can I join the course after it starts?',\n",
       " 'Am I eligible to submit homeworks without registration?',\n",
       " 'Are there deadlines for final projects?',\n",
       " 'Should I be aware of final project deadlines even if I join late?',\n",
       " 'Can I turn in everything at the last minute?']"
      ]
     },
     "execution_count": 33,
     "metadata": {},
     "output_type": "execute_result"
    }
   ],
   "source": [
    "json.loads(json_response)"
   ]
  },
  {
   "cell_type": "markdown",
   "id": "09c1f5ce-fcf8-4e9a-9bf9-9cabc70a5298",
   "metadata": {},
   "source": [
    "### Generate using all documents"
   ]
  },
  {
   "cell_type": "code",
   "execution_count": 29,
   "id": "78a00dea-d514-46b3-bcfc-c747c68226f9",
   "metadata": {},
   "outputs": [],
   "source": [
    "def generate_questions(doc):\n",
    "    prompt = prompt_template.format(**doc)\n",
    "\n",
    "    response = client.chat.completions.create(\n",
    "        model='gpt-4o',\n",
    "        messages=[{\"role\": \"user\", \"content\": prompt}]\n",
    "    )\n",
    "\n",
    "    json_response = response.choices[0].message.content\n",
    "    return json_response"
   ]
  },
  {
   "cell_type": "code",
   "execution_count": 30,
   "id": "ac457b99-14d3-4bff-8c1d-4604f2367e51",
   "metadata": {},
   "outputs": [
    {
     "name": "stderr",
     "output_type": "stream",
     "text": [
      "/usr/local/python/3.10.13/lib/python3.10/site-packages/tqdm/auto.py:21: TqdmWarning: IProgress not found. Please update jupyter and ipywidgets. See https://ipywidgets.readthedocs.io/en/stable/user_install.html\n",
      "  from .autonotebook import tqdm as notebook_tqdm\n"
     ]
    }
   ],
   "source": [
    "from tqdm.auto import tqdm"
   ]
  },
  {
   "cell_type": "code",
   "execution_count": 31,
   "id": "8f5c66d2-9062-41de-99f6-a71150b2abef",
   "metadata": {},
   "outputs": [],
   "source": [
    "results = {}"
   ]
  },
  {
   "cell_type": "markdown",
   "id": "381edd1b-baa4-4046-956d-551b1027beaf",
   "metadata": {},
   "source": [
    "- To minimize costs, we are going to run below code block onlu for 10 senconds and stop execution. Check results and then simply use previously generated full result in next steps  "
   ]
  },
  {
   "cell_type": "code",
   "execution_count": null,
   "id": "faf128cd-712f-4000-bb40-945b1ace8534",
   "metadata": {
    "scrolled": true
   },
   "outputs": [],
   "source": [
    "for doc in tqdm(documents): \n",
    "    doc_id = doc['id']\n",
    "    if doc_id in results:\n",
    "        continue\n",
    "\n",
    "    questions = generate_questions(doc)\n",
    "    results[doc_id] = questions"
   ]
  },
  {
   "cell_type": "code",
   "execution_count": 36,
   "id": "6e17e437-e079-4fd6-a3e9-4d80bfa61fc3",
   "metadata": {},
   "outputs": [
    {
     "data": {
      "text/plain": [
       "{'c02e79ef': '[\"When will the course begin?\", \\n\"What is the exact start date and time for the course?\",\\n\"How do I subscribe to the course calendar?\",\\n\"Where can I register before the course starts?\",\\n\"How do I join the course announcement channel on Telegram?\"]',\n",
       " '1f6520ca': '[\\n  \"What prerequisites should I meet for this course?\",\\n  \"Are there any specific requirements before starting this course?\",\\n  \"Where can I find the prerequisite details for this course?\",\\n  \"Do I need any prior knowledge for this course?\",\\n  \"Which skills are necessary before enrolling in this course?\"\\n]',\n",
       " '7842b56a': '[\\n  \"Can I register for the course after it has already started?\",\\n  \"Is it possible to join the course if I miss the start date?\",\\n  \"Will I be able to submit homeworks if I join the course late?\",\\n  \"Are there deadlines for final projects if I join the course after it begins?\",\\n  \"Can I participate in the course without registering at the beginning?\"\\n]',\n",
       " '0bbf41ec': '[\\n    \"When should I expect the confirmation email after registering for the Data Engineering Bootcamp?\",\\n    \"Is a confirmation email necessary to begin the Data Engineering Bootcamp?\",\\n    \"Do I need to register before starting the Data Engineering Bootcamp?\",\\n    \"Can I submit homework without official registration in the Data Engineering Bootcamp?\",\\n    \"Does the Data Engineering Bootcamp verify registration before allowing course access?\"\\n]',\n",
       " '63394d91': '[\\n   \"What dependencies and requirements should I install before the course starts?\",\\n   \"Is it necessary to have a Google Cloud account before the course begins?\",\\n   \"Do I need to set up Anaconda for Python 3 installation before starting the course?\",\\n   \"Should I check the syllabus before the course starts?\",\\n   \"Is familiarity with Terraform required before beginning the course?\"\\n]',\n",
       " '2ed9b986': '[\\n  \"How many Zoomcamps are held each year?\",\\n  \"When does the Data-Engineering Zoomcamp typically run?\",\\n  \"Is there only one \\'live\\' cohort per Zoomcamp each year?\",\\n  \"Can I take the Zoomcamps out of sync with the \\'live\\' cohort if I\\'m not interested in certification?\",\\n  \"Which Zoomcamp takes place from May to August?\"\\n]'}"
      ]
     },
     "execution_count": 36,
     "metadata": {},
     "output_type": "execute_result"
    }
   ],
   "source": [
    "results"
   ]
  },
  {
   "cell_type": "code",
   "execution_count": 37,
   "id": "a80db32d-0809-4ecc-8db4-dd7bbb564785",
   "metadata": {},
   "outputs": [],
   "source": [
    "import pickle"
   ]
  },
  {
   "cell_type": "code",
   "execution_count": 38,
   "id": "cf58f0cd-5efd-411e-a5f1-029731430a90",
   "metadata": {},
   "outputs": [],
   "source": [
    "with open('results.bin', 'rb') as f_in:\n",
    "    results = pickle.load(f_in)"
   ]
  },
  {
   "cell_type": "code",
   "execution_count": 40,
   "id": "062bc90e-e5cd-454f-8928-5d901c31823d",
   "metadata": {},
   "outputs": [
    {
     "data": {
      "text/plain": [
       "'[\"Where can I find the prerequisites for this course?\", \"How do I check the prerequisites for this course?\", \"Where are the course prerequisites listed?\", \"What are the requirements for joining this course?\", \"Where is the list of prerequisites for the course?\"]'"
      ]
     },
     "execution_count": 40,
     "metadata": {},
     "output_type": "execute_result"
    }
   ],
   "source": [
    "results['1f6520ca']"
   ]
  },
  {
   "cell_type": "code",
   "execution_count": 47,
   "id": "2399921f-3f4d-4bbd-967b-25fb297865df",
   "metadata": {
    "scrolled": true
   },
   "outputs": [
    {
     "name": "stdout",
     "output_type": "stream",
     "text": [
      "[\n",
      "\"How can I resolve the Docker error 'invalid mode: \\\\Program Files\\\\Git\\\\var\\\\lib\\\\postgresql\\\\data'?\",\n",
      "\"What should I do if I encounter an invalid mode error in Docker on Windows?\",\n",
      "\"What is the correct mounting path to use in Docker for PostgreSQL data on Windows?\",\n",
      "\"Can you provide an example of a correct Docker mounting path for PostgreSQL data?\",\n",
      "\"How do I correct the mounting path error in Docker for \\\\\\Program Files\\\\Git\\\\var\\\\lib\\\\postgresql\\\\data'?\"\n",
      "]\n"
     ]
    }
   ],
   "source": [
    "print(json_questions)"
   ]
  },
  {
   "cell_type": "code",
   "execution_count": 48,
   "id": "eae33167-712a-4a17-aee8-74f31e6bb7ca",
   "metadata": {},
   "outputs": [],
   "source": [
    "json_questions = [\n",
    "\"How can I resolve the Docker error 'invalid mode: \\Program Files\\Git\\var\\lib\\postgresql\\data'?\",\n",
    "\"What should I do if I encounter an invalid mode error in Docker on Windows?\",\n",
    "\"What is the correct mounting path to use in Docker for PostgreSQL data on Windows?\",\n",
    "\"Can you provide an example of a correct Docker mounting path for PostgreSQL data?\",\n",
    "\"How do I correct the mounting path error in Docker for \\Program Files\\Git\\var\\lib\\postgresql\\data'?\"\n",
    "]"
   ]
  },
  {
   "cell_type": "code",
   "execution_count": 50,
   "id": "76369b08-1bb1-4393-aec4-d74cbb475b83",
   "metadata": {},
   "outputs": [],
   "source": [
    "results[doc_id] = json.dumps(json_questions)"
   ]
  },
  {
   "cell_type": "code",
   "execution_count": 51,
   "id": "3454e22f-4fdc-4d9c-bf2d-3376359672e1",
   "metadata": {},
   "outputs": [],
   "source": [
    "parsed_result = {}\n",
    "\n",
    "for doc_id, json_questions in results.items():\n",
    "    parsed_result[doc_id] = json.loads(json_questions)"
   ]
  },
  {
   "cell_type": "code",
   "execution_count": 53,
   "id": "03ed1491-a4d9-449b-90a5-5de56487cdd5",
   "metadata": {},
   "outputs": [
    {
     "data": {
      "text/plain": [
       "['Where can I find the prerequisites for this course?',\n",
       " 'How do I check the prerequisites for this course?',\n",
       " 'Where are the course prerequisites listed?',\n",
       " 'What are the requirements for joining this course?',\n",
       " 'Where is the list of prerequisites for the course?']"
      ]
     },
     "execution_count": 53,
     "metadata": {},
     "output_type": "execute_result"
    }
   ],
   "source": [
    "parsed_result['1f6520ca']"
   ]
  },
  {
   "cell_type": "code",
   "execution_count": 54,
   "id": "f9dd4532-85aa-47d0-8f85-12333f2b040d",
   "metadata": {},
   "outputs": [],
   "source": [
    "doc_index = {d['id']: d for d in documents}"
   ]
  },
  {
   "cell_type": "code",
   "execution_count": 55,
   "id": "08bc3516-1cc5-4e2b-a2e3-d39518035269",
   "metadata": {},
   "outputs": [],
   "source": [
    "final_results = []\n",
    "\n",
    "for doc_id, questions in parsed_result.items():\n",
    "    course = doc_index[doc_id]['course']\n",
    "    for q in questions:\n",
    "        final_results.append((q, course, doc_id))"
   ]
  },
  {
   "cell_type": "code",
   "execution_count": 56,
   "id": "ab15a0ad-ad0c-45c0-91d8-ad7f627cd4c5",
   "metadata": {},
   "outputs": [
    {
     "data": {
      "text/plain": [
       "[('When does the course begin?', 'data-engineering-zoomcamp', 'c02e79ef'),\n",
       " ('How can I get the course schedule?',\n",
       "  'data-engineering-zoomcamp',\n",
       "  'c02e79ef'),\n",
       " ('What is the link for course registration?',\n",
       "  'data-engineering-zoomcamp',\n",
       "  'c02e79ef'),\n",
       " ('How can I receive course announcements?',\n",
       "  'data-engineering-zoomcamp',\n",
       "  'c02e79ef'),\n",
       " ('Where do I join the Slack channel?',\n",
       "  'data-engineering-zoomcamp',\n",
       "  'c02e79ef'),\n",
       " ('Where can I find the prerequisites for this course?',\n",
       "  'data-engineering-zoomcamp',\n",
       "  '1f6520ca'),\n",
       " ('How do I check the prerequisites for this course?',\n",
       "  'data-engineering-zoomcamp',\n",
       "  '1f6520ca'),\n",
       " ('Where are the course prerequisites listed?',\n",
       "  'data-engineering-zoomcamp',\n",
       "  '1f6520ca'),\n",
       " ('What are the requirements for joining this course?',\n",
       "  'data-engineering-zoomcamp',\n",
       "  '1f6520ca'),\n",
       " ('Where is the list of prerequisites for the course?',\n",
       "  'data-engineering-zoomcamp',\n",
       "  '1f6520ca')]"
      ]
     },
     "execution_count": 56,
     "metadata": {},
     "output_type": "execute_result"
    }
   ],
   "source": [
    "final_results[:10]"
   ]
  },
  {
   "cell_type": "code",
   "execution_count": 57,
   "id": "2a68e019-f96f-4af4-b4ff-b3b676ccdd10",
   "metadata": {},
   "outputs": [],
   "source": [
    "import pandas as pd"
   ]
  },
  {
   "cell_type": "code",
   "execution_count": 59,
   "id": "f77bf2aa-2ccc-45ce-8d67-53569a77f244",
   "metadata": {},
   "outputs": [],
   "source": [
    "df = pd.DataFrame(final_results, columns=['question', 'course', 'document'])"
   ]
  },
  {
   "cell_type": "code",
   "execution_count": 60,
   "id": "435956e0-fa61-4c94-9336-309044fa26d2",
   "metadata": {},
   "outputs": [
    {
     "data": {
      "text/html": [
       "<div>\n",
       "<style scoped>\n",
       "    .dataframe tbody tr th:only-of-type {\n",
       "        vertical-align: middle;\n",
       "    }\n",
       "\n",
       "    .dataframe tbody tr th {\n",
       "        vertical-align: top;\n",
       "    }\n",
       "\n",
       "    .dataframe thead th {\n",
       "        text-align: right;\n",
       "    }\n",
       "</style>\n",
       "<table border=\"1\" class=\"dataframe\">\n",
       "  <thead>\n",
       "    <tr style=\"text-align: right;\">\n",
       "      <th></th>\n",
       "      <th>question</th>\n",
       "      <th>course</th>\n",
       "      <th>document</th>\n",
       "    </tr>\n",
       "  </thead>\n",
       "  <tbody>\n",
       "    <tr>\n",
       "      <th>0</th>\n",
       "      <td>When does the course begin?</td>\n",
       "      <td>data-engineering-zoomcamp</td>\n",
       "      <td>c02e79ef</td>\n",
       "    </tr>\n",
       "    <tr>\n",
       "      <th>1</th>\n",
       "      <td>How can I get the course schedule?</td>\n",
       "      <td>data-engineering-zoomcamp</td>\n",
       "      <td>c02e79ef</td>\n",
       "    </tr>\n",
       "    <tr>\n",
       "      <th>2</th>\n",
       "      <td>What is the link for course registration?</td>\n",
       "      <td>data-engineering-zoomcamp</td>\n",
       "      <td>c02e79ef</td>\n",
       "    </tr>\n",
       "    <tr>\n",
       "      <th>3</th>\n",
       "      <td>How can I receive course announcements?</td>\n",
       "      <td>data-engineering-zoomcamp</td>\n",
       "      <td>c02e79ef</td>\n",
       "    </tr>\n",
       "    <tr>\n",
       "      <th>4</th>\n",
       "      <td>Where do I join the Slack channel?</td>\n",
       "      <td>data-engineering-zoomcamp</td>\n",
       "      <td>c02e79ef</td>\n",
       "    </tr>\n",
       "    <tr>\n",
       "      <th>...</th>\n",
       "      <td>...</td>\n",
       "      <td>...</td>\n",
       "      <td>...</td>\n",
       "    </tr>\n",
       "    <tr>\n",
       "      <th>5083</th>\n",
       "      <td>How should I destroy infrastructure created us...</td>\n",
       "      <td>mlops-zoomcamp</td>\n",
       "      <td>886d1617</td>\n",
       "    </tr>\n",
       "    <tr>\n",
       "      <th>5084</th>\n",
       "      <td>What is the first step to destroy AWS infrastr...</td>\n",
       "      <td>mlops-zoomcamp</td>\n",
       "      <td>886d1617</td>\n",
       "    </tr>\n",
       "    <tr>\n",
       "      <th>5085</th>\n",
       "      <td>Can I destroy infrastructure created with GitH...</td>\n",
       "      <td>mlops-zoomcamp</td>\n",
       "      <td>886d1617</td>\n",
       "    </tr>\n",
       "    <tr>\n",
       "      <th>5086</th>\n",
       "      <td>What command initializes Terraform with specif...</td>\n",
       "      <td>mlops-zoomcamp</td>\n",
       "      <td>886d1617</td>\n",
       "    </tr>\n",
       "    <tr>\n",
       "      <th>5087</th>\n",
       "      <td>How do you specify the variable file when runn...</td>\n",
       "      <td>mlops-zoomcamp</td>\n",
       "      <td>886d1617</td>\n",
       "    </tr>\n",
       "  </tbody>\n",
       "</table>\n",
       "<p>5088 rows × 3 columns</p>\n",
       "</div>"
      ],
      "text/plain": [
       "                                               question  \\\n",
       "0                           When does the course begin?   \n",
       "1                    How can I get the course schedule?   \n",
       "2             What is the link for course registration?   \n",
       "3               How can I receive course announcements?   \n",
       "4                    Where do I join the Slack channel?   \n",
       "...                                                 ...   \n",
       "5083  How should I destroy infrastructure created us...   \n",
       "5084  What is the first step to destroy AWS infrastr...   \n",
       "5085  Can I destroy infrastructure created with GitH...   \n",
       "5086  What command initializes Terraform with specif...   \n",
       "5087  How do you specify the variable file when runn...   \n",
       "\n",
       "                         course  document  \n",
       "0     data-engineering-zoomcamp  c02e79ef  \n",
       "1     data-engineering-zoomcamp  c02e79ef  \n",
       "2     data-engineering-zoomcamp  c02e79ef  \n",
       "3     data-engineering-zoomcamp  c02e79ef  \n",
       "4     data-engineering-zoomcamp  c02e79ef  \n",
       "...                         ...       ...  \n",
       "5083             mlops-zoomcamp  886d1617  \n",
       "5084             mlops-zoomcamp  886d1617  \n",
       "5085             mlops-zoomcamp  886d1617  \n",
       "5086             mlops-zoomcamp  886d1617  \n",
       "5087             mlops-zoomcamp  886d1617  \n",
       "\n",
       "[5088 rows x 3 columns]"
      ]
     },
     "execution_count": 60,
     "metadata": {},
     "output_type": "execute_result"
    }
   ],
   "source": [
    "df"
   ]
  },
  {
   "cell_type": "code",
   "execution_count": 61,
   "id": "efc22d58-f783-43b9-bdef-1255e4153a79",
   "metadata": {},
   "outputs": [],
   "source": [
    "df.to_csv('ground-truth-data.csv', index=False)"
   ]
  },
  {
   "cell_type": "code",
   "execution_count": null,
   "id": "ae814e34-87a6-4d6d-813e-7cc26c955a3b",
   "metadata": {},
   "outputs": [],
   "source": []
  }
 ],
 "metadata": {
  "kernelspec": {
   "display_name": "Python 3 (ipykernel)",
   "language": "python",
   "name": "python3"
  },
  "language_info": {
   "codemirror_mode": {
    "name": "ipython",
    "version": 3
   },
   "file_extension": ".py",
   "mimetype": "text/x-python",
   "name": "python",
   "nbconvert_exporter": "python",
   "pygments_lexer": "ipython3",
   "version": "3.10.13"
  }
 },
 "nbformat": 4,
 "nbformat_minor": 5
}
