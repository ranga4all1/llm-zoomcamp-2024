{
 "cells": [
  {
   "cell_type": "markdown",
   "id": "67804b86-12cb-4308-a362-cd21713d5e18",
   "metadata": {},
   "source": [
    "# Using higgingface - FLAN-t5\n",
    "* Model: google/flan-t5-xl"
   ]
  },
  {
   "cell_type": "code",
   "execution_count": 1,
   "id": "988ece59-951a-4b32-ba3f-cb8efb66a9bb",
   "metadata": {
    "execution": {
     "iopub.execute_input": "2024-07-01T20:45:35.732973Z",
     "iopub.status.busy": "2024-07-01T20:45:35.732587Z",
     "iopub.status.idle": "2024-07-01T20:45:36.469826Z",
     "shell.execute_reply": "2024-07-01T20:45:36.469074Z",
     "shell.execute_reply.started": "2024-07-01T20:45:35.732946Z"
    },
    "tags": []
   },
   "outputs": [
    {
     "name": "stdout",
     "output_type": "stream",
     "text": [
      "Mon Jul  1 20:45:36 2024       \n",
      "+---------------------------------------------------------------------------------------+\n",
      "| NVIDIA-SMI 535.161.08             Driver Version: 535.161.08   CUDA Version: 12.2     |\n",
      "|-----------------------------------------+----------------------+----------------------+\n",
      "| GPU  Name                 Persistence-M | Bus-Id        Disp.A | Volatile Uncorr. ECC |\n",
      "| Fan  Temp   Perf          Pwr:Usage/Cap |         Memory-Usage | GPU-Util  Compute M. |\n",
      "|                                         |                      |               MIG M. |\n",
      "|=========================================+======================+======================|\n",
      "|   0  Tesla T4                       On  | 00000000:00:1E.0 Off |                    0 |\n",
      "| N/A   26C    P8               9W /  70W |      0MiB / 15360MiB |      0%      Default |\n",
      "|                                         |                      |                  N/A |\n",
      "+-----------------------------------------+----------------------+----------------------+\n",
      "                                                                                         \n",
      "+---------------------------------------------------------------------------------------+\n",
      "| Processes:                                                                            |\n",
      "|  GPU   GI   CI        PID   Type   Process name                            GPU Memory |\n",
      "|        ID   ID                                                             Usage      |\n",
      "|=======================================================================================|\n",
      "|  No running processes found                                                           |\n",
      "+---------------------------------------------------------------------------------------+\n"
     ]
    }
   ],
   "source": [
    "!nvidia-smi"
   ]
  },
  {
   "cell_type": "code",
   "execution_count": 3,
   "id": "4376c353-6044-4bdf-839a-41c1538980c4",
   "metadata": {
    "execution": {
     "iopub.execute_input": "2024-07-01T20:47:03.866462Z",
     "iopub.status.busy": "2024-07-01T20:47:03.866093Z",
     "iopub.status.idle": "2024-07-01T20:47:04.478836Z",
     "shell.execute_reply": "2024-07-01T20:47:04.478069Z",
     "shell.execute_reply.started": "2024-07-01T20:47:03.866437Z"
    },
    "tags": []
   },
   "outputs": [
    {
     "name": "stdout",
     "output_type": "stream",
     "text": [
      "Filesystem      Size  Used Avail Use% Mounted on\n",
      "overlay         100G   36G   65G  36% /\n",
      "tmpfs            64M     0   64M   0% /dev\n",
      "tmpfs           7.7G     0  7.7G   0% /sys/fs/cgroup\n",
      "/dev/nvme0n1p1  100G   36G   65G  36% /run\n",
      "tmpfs            14G     0   14G   0% /dev/shm\n",
      "/dev/nvme2n1    2.0G  132M  1.8G   7% /home/jovyan\n",
      "tmpfs            14G  120K   14G   1% /home/jovyan/.saturn\n",
      "tmpfs            14G   12K   14G   1% /run/secrets/kubernetes.io/serviceaccount\n",
      "tmpfs           7.7G   12K  7.7G   1% /proc/driver/nvidia\n",
      "tmpfs           7.7G  3.6M  7.7G   1% /run/nvidia-persistenced/socket\n",
      "tmpfs           7.7G     0  7.7G   0% /proc/acpi\n",
      "tmpfs           7.7G     0  7.7G   0% /sys/firmware\n"
     ]
    }
   ],
   "source": [
    "!df -h"
   ]
  },
  {
   "cell_type": "code",
   "execution_count": 4,
   "id": "7f216b47-6b7a-43be-ade6-2f85171eb2c7",
   "metadata": {
    "execution": {
     "iopub.execute_input": "2024-07-01T20:47:11.078266Z",
     "iopub.status.busy": "2024-07-01T20:47:11.077873Z",
     "iopub.status.idle": "2024-07-01T20:47:11.082354Z",
     "shell.execute_reply": "2024-07-01T20:47:11.081513Z",
     "shell.execute_reply.started": "2024-07-01T20:47:11.078238Z"
    },
    "tags": []
   },
   "outputs": [],
   "source": [
    "import os\n",
    "os.environ['HF_HOME'] = '/run/cache/'"
   ]
  },
  {
   "cell_type": "code",
   "execution_count": 5,
   "id": "99b23c46-60cf-4683-b9fe-fb68f8259cdf",
   "metadata": {
    "execution": {
     "iopub.execute_input": "2024-07-01T20:47:15.337071Z",
     "iopub.status.busy": "2024-07-01T20:47:15.336677Z",
     "iopub.status.idle": "2024-07-01T20:47:15.340461Z",
     "shell.execute_reply": "2024-07-01T20:47:15.339699Z",
     "shell.execute_reply.started": "2024-07-01T20:47:15.337042Z"
    },
    "tags": []
   },
   "outputs": [],
   "source": [
    "# os.getenv('HF_TOKEN')"
   ]
  },
  {
   "cell_type": "code",
   "execution_count": 6,
   "id": "3831a18e-483e-4f74-8b37-08831bbf9ea7",
   "metadata": {
    "execution": {
     "iopub.execute_input": "2024-07-01T20:48:08.107164Z",
     "iopub.status.busy": "2024-07-01T20:48:08.106758Z",
     "iopub.status.idle": "2024-07-01T20:48:14.119843Z",
     "shell.execute_reply": "2024-07-01T20:48:14.119135Z",
     "shell.execute_reply.started": "2024-07-01T20:48:08.107137Z"
    },
    "tags": []
   },
   "outputs": [],
   "source": [
    "from transformers import T5Tokenizer, T5ForConditionalGeneration"
   ]
  },
  {
   "cell_type": "code",
   "execution_count": 7,
   "id": "97bb36bd-ca48-4730-8568-8dc3d1c74a3a",
   "metadata": {
    "execution": {
     "iopub.execute_input": "2024-07-01T20:48:32.907191Z",
     "iopub.status.busy": "2024-07-01T20:48:32.906711Z",
     "iopub.status.idle": "2024-07-01T20:51:11.313676Z",
     "shell.execute_reply": "2024-07-01T20:51:11.312795Z",
     "shell.execute_reply.started": "2024-07-01T20:48:32.907160Z"
    },
    "tags": []
   },
   "outputs": [
    {
     "data": {
      "application/vnd.jupyter.widget-view+json": {
       "model_id": "21021adb6a4f458982b4642d2c167134",
       "version_major": 2,
       "version_minor": 0
      },
      "text/plain": [
       "tokenizer_config.json:   0%|          | 0.00/2.54k [00:00<?, ?B/s]"
      ]
     },
     "metadata": {},
     "output_type": "display_data"
    },
    {
     "data": {
      "application/vnd.jupyter.widget-view+json": {
       "model_id": "3ffb707fbd644168908f1ed82f247441",
       "version_major": 2,
       "version_minor": 0
      },
      "text/plain": [
       "spiece.model:   0%|          | 0.00/792k [00:00<?, ?B/s]"
      ]
     },
     "metadata": {},
     "output_type": "display_data"
    },
    {
     "data": {
      "application/vnd.jupyter.widget-view+json": {
       "model_id": "cdf6c0a9e83f42d4b1b834394265fcaf",
       "version_major": 2,
       "version_minor": 0
      },
      "text/plain": [
       "special_tokens_map.json:   0%|          | 0.00/2.20k [00:00<?, ?B/s]"
      ]
     },
     "metadata": {},
     "output_type": "display_data"
    },
    {
     "data": {
      "application/vnd.jupyter.widget-view+json": {
       "model_id": "0ce439f62b0f45f6b71f80bcd6dcc9a1",
       "version_major": 2,
       "version_minor": 0
      },
      "text/plain": [
       "tokenizer.json:   0%|          | 0.00/2.42M [00:00<?, ?B/s]"
      ]
     },
     "metadata": {},
     "output_type": "display_data"
    },
    {
     "name": "stderr",
     "output_type": "stream",
     "text": [
      "You are using the default legacy behaviour of the <class 'transformers.models.t5.tokenization_t5.T5Tokenizer'>. This is expected, and simply means that the `legacy` (previous) behavior will be used so nothing changes for you. If you want to use the new behaviour, set `legacy=False`. This should only be set if you understand what it means, and thoroughly read the reason why this was added as explained in https://github.com/huggingface/transformers/pull/24565\n",
      "Special tokens have been added in the vocabulary, make sure the associated word embeddings are fine-tuned or trained.\n"
     ]
    },
    {
     "data": {
      "application/vnd.jupyter.widget-view+json": {
       "model_id": "5061284e1f1646dca4eaa79b64d6d714",
       "version_major": 2,
       "version_minor": 0
      },
      "text/plain": [
       "config.json:   0%|          | 0.00/1.44k [00:00<?, ?B/s]"
      ]
     },
     "metadata": {},
     "output_type": "display_data"
    },
    {
     "data": {
      "application/vnd.jupyter.widget-view+json": {
       "model_id": "d7f551b5c8204b7ea43ab2e53899cb09",
       "version_major": 2,
       "version_minor": 0
      },
      "text/plain": [
       "model.safetensors.index.json:   0%|          | 0.00/53.0k [00:00<?, ?B/s]"
      ]
     },
     "metadata": {},
     "output_type": "display_data"
    },
    {
     "data": {
      "application/vnd.jupyter.widget-view+json": {
       "model_id": "043dd80e398e4f9991905d359b18c0f6",
       "version_major": 2,
       "version_minor": 0
      },
      "text/plain": [
       "Downloading shards:   0%|          | 0/2 [00:00<?, ?it/s]"
      ]
     },
     "metadata": {},
     "output_type": "display_data"
    },
    {
     "data": {
      "application/vnd.jupyter.widget-view+json": {
       "model_id": "9a324f7f34b14de49765f76aeba71ba8",
       "version_major": 2,
       "version_minor": 0
      },
      "text/plain": [
       "model-00001-of-00002.safetensors:   0%|          | 0.00/9.45G [00:00<?, ?B/s]"
      ]
     },
     "metadata": {},
     "output_type": "display_data"
    },
    {
     "data": {
      "application/vnd.jupyter.widget-view+json": {
       "model_id": "5662d05e49f64556a9f62788a26c658b",
       "version_major": 2,
       "version_minor": 0
      },
      "text/plain": [
       "model-00002-of-00002.safetensors:   0%|          | 0.00/1.95G [00:00<?, ?B/s]"
      ]
     },
     "metadata": {},
     "output_type": "display_data"
    },
    {
     "data": {
      "application/vnd.jupyter.widget-view+json": {
       "model_id": "cd030ffb57084970b3552864beab7183",
       "version_major": 2,
       "version_minor": 0
      },
      "text/plain": [
       "Loading checkpoint shards:   0%|          | 0/2 [00:00<?, ?it/s]"
      ]
     },
     "metadata": {},
     "output_type": "display_data"
    },
    {
     "data": {
      "application/vnd.jupyter.widget-view+json": {
       "model_id": "8c642d8b9d4f40aabc31945188802bcd",
       "version_major": 2,
       "version_minor": 0
      },
      "text/plain": [
       "generation_config.json:   0%|          | 0.00/147 [00:00<?, ?B/s]"
      ]
     },
     "metadata": {},
     "output_type": "display_data"
    }
   ],
   "source": [
    "tokenizer = T5Tokenizer.from_pretrained(\"google/flan-t5-xl\")\n",
    "model = T5ForConditionalGeneration.from_pretrained(\"google/flan-t5-xl\", device_map=\"auto\")"
   ]
  },
  {
   "cell_type": "code",
   "execution_count": 8,
   "id": "7abd7440-6a20-440a-9de7-d6c709b67940",
   "metadata": {
    "execution": {
     "iopub.execute_input": "2024-07-01T20:51:20.937671Z",
     "iopub.status.busy": "2024-07-01T20:51:20.937281Z",
     "iopub.status.idle": "2024-07-01T20:51:20.951024Z",
     "shell.execute_reply": "2024-07-01T20:51:20.950216Z",
     "shell.execute_reply.started": "2024-07-01T20:51:20.937644Z"
    },
    "tags": []
   },
   "outputs": [
    {
     "data": {
      "text/plain": [
       "tensor([[13959,  1566,    12,  2968,    10,   571,   625,    33,    25,    58,\n",
       "             1]], device='cuda:0')"
      ]
     },
     "execution_count": 8,
     "metadata": {},
     "output_type": "execute_result"
    }
   ],
   "source": [
    "input_text = \"translate English to German: How old are you?\"\n",
    "input_ids = tokenizer(input_text, return_tensors=\"pt\").input_ids.to(\"cuda\")\n",
    "input_ids"
   ]
  },
  {
   "cell_type": "code",
   "execution_count": 9,
   "id": "33fb2426-b766-4e3c-8c53-bc37990a5490",
   "metadata": {
    "execution": {
     "iopub.execute_input": "2024-07-01T20:51:39.176819Z",
     "iopub.status.busy": "2024-07-01T20:51:39.176427Z",
     "iopub.status.idle": "2024-07-01T20:51:41.864439Z",
     "shell.execute_reply": "2024-07-01T20:51:41.863565Z",
     "shell.execute_reply.started": "2024-07-01T20:51:39.176790Z"
    },
    "tags": []
   },
   "outputs": [
    {
     "name": "stderr",
     "output_type": "stream",
     "text": [
      "/opt/saturncloud/envs/saturn/lib/python3.9/site-packages/transformers/generation/utils.py:1249: UserWarning: Using the model-agnostic default `max_length` (=20) to control the generation length. We recommend setting `max_new_tokens` to control the maximum length of the generation.\n",
      "  warnings.warn(\n"
     ]
    },
    {
     "name": "stdout",
     "output_type": "stream",
     "text": [
      "<pad> Wie alt sind Sie?</s>\n"
     ]
    }
   ],
   "source": [
    "outputs = model.generate(input_ids)\n",
    "print(tokenizer.decode(outputs[0]))"
   ]
  },
  {
   "cell_type": "code",
   "execution_count": 15,
   "id": "9bdc565c-690f-4661-a8fb-adcd94cb5d31",
   "metadata": {
    "execution": {
     "iopub.execute_input": "2024-07-01T20:55:45.809773Z",
     "iopub.status.busy": "2024-07-01T20:55:45.809370Z",
     "iopub.status.idle": "2024-07-01T20:55:45.815516Z",
     "shell.execute_reply": "2024-07-01T20:55:45.814672Z",
     "shell.execute_reply.started": "2024-07-01T20:55:45.809744Z"
    },
    "tags": []
   },
   "outputs": [
    {
     "data": {
      "text/plain": [
       "tensor([[   0, 2739, 4445,  436,  292,   58,    1]], device='cuda:0')"
      ]
     },
     "execution_count": 15,
     "metadata": {},
     "output_type": "execute_result"
    }
   ],
   "source": [
    "outputs"
   ]
  },
  {
   "cell_type": "markdown",
   "id": "08a43853-e3a0-4192-a944-f6211e2f931e",
   "metadata": {},
   "source": [
    "### Now let's use our documents context"
   ]
  },
  {
   "cell_type": "code",
   "execution_count": 10,
   "id": "506fab2a-a50c-42bd-a106-c83a9d2828ea",
   "metadata": {
    "execution": {
     "iopub.execute_input": "2024-07-01T20:52:25.489339Z",
     "iopub.status.busy": "2024-07-01T20:52:25.488944Z",
     "iopub.status.idle": "2024-07-01T20:52:26.860486Z",
     "shell.execute_reply": "2024-07-01T20:52:26.859685Z",
     "shell.execute_reply.started": "2024-07-01T20:52:25.489312Z"
    },
    "tags": []
   },
   "outputs": [
    {
     "name": "stdout",
     "output_type": "stream",
     "text": [
      "--2024-07-01 20:52:26--  https://raw.githubusercontent.com/alexeygrigorev/minsearch/main/minsearch.py\n",
      "Resolving raw.githubusercontent.com (raw.githubusercontent.com)... 185.199.111.133, 185.199.108.133, 185.199.110.133, ...\n",
      "Connecting to raw.githubusercontent.com (raw.githubusercontent.com)|185.199.111.133|:443... connected.\n",
      "HTTP request sent, awaiting response... 200 OK\n",
      "Length: 3832 (3.7K) [text/plain]\n",
      "Saving to: ‘minsearch.py’\n",
      "\n",
      "minsearch.py        100%[===================>]   3.74K  --.-KB/s    in 0s      \n",
      "\n",
      "2024-07-01 20:52:26 (85.0 MB/s) - ‘minsearch.py’ saved [3832/3832]\n",
      "\n"
     ]
    }
   ],
   "source": [
    "!rm -f minsearch.py\n",
    "!wget https://raw.githubusercontent.com/alexeygrigorev/minsearch/main/minsearch.py"
   ]
  },
  {
   "cell_type": "code",
   "execution_count": 11,
   "id": "3ac947de-effd-4b61-8792-a6d7a133f347",
   "metadata": {
    "execution": {
     "iopub.execute_input": "2024-07-01T20:53:08.437933Z",
     "iopub.status.busy": "2024-07-01T20:53:08.437514Z",
     "iopub.status.idle": "2024-07-01T20:53:12.578626Z",
     "shell.execute_reply": "2024-07-01T20:53:12.577738Z",
     "shell.execute_reply.started": "2024-07-01T20:53:08.437902Z"
    },
    "tags": []
   },
   "outputs": [
    {
     "data": {
      "text/plain": [
       "<minsearch.Index at 0x7febfd01fc40>"
      ]
     },
     "execution_count": 11,
     "metadata": {},
     "output_type": "execute_result"
    }
   ],
   "source": [
    "import requests \n",
    "import minsearch\n",
    "\n",
    "docs_url = 'https://github.com/DataTalksClub/llm-zoomcamp/blob/main/01-intro/documents.json?raw=1'\n",
    "docs_response = requests.get(docs_url)\n",
    "documents_raw = docs_response.json()\n",
    "\n",
    "documents = []\n",
    "\n",
    "for course in documents_raw:\n",
    "    course_name = course['course']\n",
    "\n",
    "    for doc in course['documents']:\n",
    "        doc['course'] = course_name\n",
    "        documents.append(doc)\n",
    "\n",
    "index = minsearch.Index(\n",
    "    text_fields=[\"question\", \"text\", \"section\"],\n",
    "    keyword_fields=[\"course\"]\n",
    ")\n",
    "\n",
    "index.fit(documents)"
   ]
  },
  {
   "cell_type": "code",
   "execution_count": 12,
   "id": "8f087272-b44d-4738-9ea2-175ec63a058b",
   "metadata": {
    "execution": {
     "iopub.execute_input": "2024-07-01T20:53:38.441115Z",
     "iopub.status.busy": "2024-07-01T20:53:38.440608Z",
     "iopub.status.idle": "2024-07-01T20:53:38.445213Z",
     "shell.execute_reply": "2024-07-01T20:53:38.444531Z",
     "shell.execute_reply.started": "2024-07-01T20:53:38.441087Z"
    },
    "tags": []
   },
   "outputs": [],
   "source": [
    "def search(query):\n",
    "    boost = {'question': 3.0, 'section': 0.5}\n",
    "\n",
    "    results = index.search(\n",
    "        query=query,\n",
    "        filter_dict={'course': 'data-engineering-zoomcamp'},\n",
    "        boost_dict=boost,\n",
    "        num_results=5\n",
    "    )\n",
    "\n",
    "    return results"
   ]
  },
  {
   "cell_type": "code",
   "execution_count": 13,
   "id": "742ab881-499a-4675-83c4-2013ea1377b9",
   "metadata": {
    "execution": {
     "iopub.execute_input": "2024-07-01T20:54:51.567137Z",
     "iopub.status.busy": "2024-07-01T20:54:51.566715Z",
     "iopub.status.idle": "2024-07-01T20:54:51.572636Z",
     "shell.execute_reply": "2024-07-01T20:54:51.571850Z",
     "shell.execute_reply.started": "2024-07-01T20:54:51.567109Z"
    },
    "tags": []
   },
   "outputs": [],
   "source": [
    "def build_prompt(query, search_results):\n",
    "    prompt_template = \"\"\"\n",
    "You're a course teaching assistant. Answer the QUESTION based on the CONTEXT from the FAQ database.\n",
    "Use only the facts from the CONTEXT when answering the QUESTION.\n",
    "\n",
    "QUESTION: {question}\n",
    "\n",
    "CONTEXT:\n",
    "{context}\n",
    "\"\"\".strip()\n",
    "\n",
    "    context = \"\"\n",
    "    \n",
    "    for doc in search_results:\n",
    "        context = context + f\"section: {doc['section']}\\nquestion: {doc['question']}\\nanswer: {doc['text']}\\n\\n\"\n",
    "    \n",
    "    prompt = prompt_template.format(question=query, context=context).strip()\n",
    "    return prompt\n",
    "\n",
    "def llm(prompt):\n",
    "    input_ids = tokenizer(prompt, return_tensors=\"pt\").input_ids.to(\"cuda\")\n",
    "    outputs = model.generate(input_ids, )\n",
    "    result = tokenizer.decode(outputs[0])\n",
    "    return result"
   ]
  },
  {
   "cell_type": "code",
   "execution_count": 14,
   "id": "fe8bff3e-b672-42be-866b-f2d9bb217106",
   "metadata": {
    "execution": {
     "iopub.execute_input": "2024-07-01T20:54:55.296804Z",
     "iopub.status.busy": "2024-07-01T20:54:55.296405Z",
     "iopub.status.idle": "2024-07-01T20:54:55.300688Z",
     "shell.execute_reply": "2024-07-01T20:54:55.299900Z",
     "shell.execute_reply.started": "2024-07-01T20:54:55.296777Z"
    },
    "tags": []
   },
   "outputs": [],
   "source": [
    "def rag(query):\n",
    "    search_results = search(query)\n",
    "    prompt = build_prompt(query, search_results)\n",
    "    answer = llm(prompt)\n",
    "    return answer"
   ]
  },
  {
   "cell_type": "code",
   "execution_count": 16,
   "id": "20abcb62-6afd-41c4-9a0f-91e2f35eb314",
   "metadata": {
    "execution": {
     "iopub.execute_input": "2024-07-01T20:56:42.448837Z",
     "iopub.status.busy": "2024-07-01T20:56:42.448443Z",
     "iopub.status.idle": "2024-07-01T20:56:43.439727Z",
     "shell.execute_reply": "2024-07-01T20:56:43.438818Z",
     "shell.execute_reply.started": "2024-07-01T20:56:42.448810Z"
    },
    "tags": []
   },
   "outputs": [
    {
     "name": "stderr",
     "output_type": "stream",
     "text": [
      "/opt/saturncloud/envs/saturn/lib/python3.9/site-packages/transformers/generation/utils.py:1249: UserWarning: Using the model-agnostic default `max_length` (=20) to control the generation length. We recommend setting `max_new_tokens` to control the maximum length of the generation.\n",
      "  warnings.warn(\n"
     ]
    },
    {
     "data": {
      "text/plain": [
       "\"<pad>Yes, even if you don't register, you're still eligible to submit the\""
      ]
     },
     "execution_count": 16,
     "metadata": {},
     "output_type": "execute_result"
    }
   ],
   "source": [
    "rag(\"I just discovered the course. Can I still join it?\")"
   ]
  },
  {
   "cell_type": "markdown",
   "id": "850bb475-c6b1-4e7a-b484-26ba15c6f25f",
   "metadata": {},
   "source": [
    "### Update llm prompt for max_length"
   ]
  },
  {
   "cell_type": "markdown",
   "id": "4daf12cb-19d6-4f16-a2db-acc60634cc57",
   "metadata": {},
   "source": [
    "## Explanation of Parameters:\n",
    "\n",
    "* `max_length`: Set this to a higher value if you want longer responses. For example, `max_length=300`.\n",
    "* `num_beams`: Increasing this can lead to more thorough exploration of possible sequences. Typical values are between 5 and 10.\n",
    "* `do_sample`: Set this to `True` to use sampling methods. This can produce more diverse responses.\n",
    "* `temperature`: Lowering this value makes the model more confident and deterministic, while higher values increase diversity. Typical values range from 0.7 to 1.5.\n",
    "* `top_k` and `top_p`: These parameters control nucleus sampling. `top_k` limits the sampling pool to the top k tokens, while `top_p` uses cumulative probability to cut off the sampling pool. Adjust these based on the desired level of randomness."
   ]
  },
  {
   "cell_type": "code",
   "execution_count": 17,
   "id": "a9c1fded-55eb-4ec9-a17e-7a977feb7436",
   "metadata": {
    "execution": {
     "iopub.execute_input": "2024-07-01T20:57:33.294301Z",
     "iopub.status.busy": "2024-07-01T20:57:33.293895Z",
     "iopub.status.idle": "2024-07-01T20:57:33.299451Z",
     "shell.execute_reply": "2024-07-01T20:57:33.298789Z",
     "shell.execute_reply.started": "2024-07-01T20:57:33.294275Z"
    },
    "tags": []
   },
   "outputs": [],
   "source": [
    "def llm(prompt, generate_params=None):\n",
    "    if generate_params is None:\n",
    "        generate_params = {}\n",
    "\n",
    "    input_ids = tokenizer(prompt, return_tensors=\"pt\").input_ids.to(\"cuda\")\n",
    "    outputs = model.generate(\n",
    "        input_ids,\n",
    "        max_length=generate_params.get(\"max_length\", 100),\n",
    "        num_beams=generate_params.get(\"num_beams\", 5),\n",
    "        do_sample=generate_params.get(\"do_sample\", False),\n",
    "        temperature=generate_params.get(\"temperature\", 1.0),\n",
    "        top_k=generate_params.get(\"top_k\", 50),\n",
    "        top_p=generate_params.get(\"top_p\", 0.95),\n",
    "    )\n",
    "    result = tokenizer.decode(outputs[0], skip_special_tokens=True)\n",
    "    return result"
   ]
  },
  {
   "cell_type": "code",
   "execution_count": 18,
   "id": "390f20f6-84cd-437d-a4df-ba325603d269",
   "metadata": {
    "execution": {
     "iopub.execute_input": "2024-07-01T20:57:43.140964Z",
     "iopub.status.busy": "2024-07-01T20:57:43.140558Z",
     "iopub.status.idle": "2024-07-01T20:57:46.831078Z",
     "shell.execute_reply": "2024-07-01T20:57:46.830214Z",
     "shell.execute_reply.started": "2024-07-01T20:57:43.140937Z"
    },
    "tags": []
   },
   "outputs": [
    {
     "name": "stderr",
     "output_type": "stream",
     "text": [
      "/opt/saturncloud/envs/saturn/lib/python3.9/site-packages/transformers/generation/configuration_utils.py:545: UserWarning: `do_sample` is set to `False`. However, `top_p` is set to `0.95` -- this flag is only used in sample-based generation modes. You should set `do_sample=True` or unset `top_p`.\n",
      "  warnings.warn(\n"
     ]
    },
    {
     "data": {
      "text/plain": [
       "\"Yes, even if you don't register, you're still eligible to submit the homeworks. Be aware, however, that there will be deadlines for turning in the final projects. So don't leave everything for the last minute.\""
      ]
     },
     "execution_count": 18,
     "metadata": {},
     "output_type": "execute_result"
    }
   ],
   "source": [
    "rag(\"I just discovered the course. Can I still join it?\")"
   ]
  }
 ],
 "metadata": {
  "kernelspec": {
   "display_name": "Python 3 (ipykernel)",
   "language": "python",
   "name": "python3"
  },
  "language_info": {
   "codemirror_mode": {
    "name": "ipython",
    "version": 3
   },
   "file_extension": ".py",
   "mimetype": "text/x-python",
   "name": "python",
   "nbconvert_exporter": "python",
   "pygments_lexer": "ipython3",
   "version": "3.10.13"
  }
 },
 "nbformat": 4,
 "nbformat_minor": 5
}
