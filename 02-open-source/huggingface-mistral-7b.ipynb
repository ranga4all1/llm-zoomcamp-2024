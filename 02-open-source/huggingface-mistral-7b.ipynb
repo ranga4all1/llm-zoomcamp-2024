{
 "cells": [
  {
   "cell_type": "markdown",
   "id": "67804b86-12cb-4308-a362-cd21713d5e18",
   "metadata": {},
   "source": [
    "# Using higgingface - Mistral-7B and HuggingFace Hub Authentication\n",
    "* Model: mistralai/Mistral-7B-v0.1Model: mistralai/Mistral-7B-v0.1"
   ]
  },
  {
   "cell_type": "code",
   "execution_count": 1,
   "id": "988ece59-951a-4b32-ba3f-cb8efb66a9bb",
   "metadata": {
    "execution": {
     "iopub.execute_input": "2024-07-02T00:24:13.546857Z",
     "iopub.status.busy": "2024-07-02T00:24:13.546493Z",
     "iopub.status.idle": "2024-07-02T00:24:14.241710Z",
     "shell.execute_reply": "2024-07-02T00:24:14.241017Z",
     "shell.execute_reply.started": "2024-07-02T00:24:13.546829Z"
    },
    "tags": []
   },
   "outputs": [
    {
     "name": "stdout",
     "output_type": "stream",
     "text": [
      "Tue Jul  2 00:24:14 2024       \n",
      "+---------------------------------------------------------------------------------------+\n",
      "| NVIDIA-SMI 535.183.01             Driver Version: 535.183.01   CUDA Version: 12.2     |\n",
      "|-----------------------------------------+----------------------+----------------------+\n",
      "| GPU  Name                 Persistence-M | Bus-Id        Disp.A | Volatile Uncorr. ECC |\n",
      "| Fan  Temp   Perf          Pwr:Usage/Cap |         Memory-Usage | GPU-Util  Compute M. |\n",
      "|                                         |                      |               MIG M. |\n",
      "|=========================================+======================+======================|\n",
      "|   0  Tesla T4                       On  | 00000000:00:1E.0 Off |                    0 |\n",
      "| N/A   31C    P8              11W /  70W |      0MiB / 15360MiB |      0%      Default |\n",
      "|                                         |                      |                  N/A |\n",
      "+-----------------------------------------+----------------------+----------------------+\n",
      "                                                                                         \n",
      "+---------------------------------------------------------------------------------------+\n",
      "| Processes:                                                                            |\n",
      "|  GPU   GI   CI        PID   Type   Process name                            GPU Memory |\n",
      "|        ID   ID                                                             Usage      |\n",
      "|=======================================================================================|\n",
      "|  No running processes found                                                           |\n",
      "+---------------------------------------------------------------------------------------+\n"
     ]
    }
   ],
   "source": [
    "!nvidia-smi"
   ]
  },
  {
   "cell_type": "code",
   "execution_count": 2,
   "id": "4376c353-6044-4bdf-839a-41c1538980c4",
   "metadata": {
    "execution": {
     "iopub.execute_input": "2024-07-02T00:24:18.520634Z",
     "iopub.status.busy": "2024-07-02T00:24:18.520231Z",
     "iopub.status.idle": "2024-07-02T00:24:19.113125Z",
     "shell.execute_reply": "2024-07-02T00:24:19.112384Z",
     "shell.execute_reply.started": "2024-07-02T00:24:18.520606Z"
    },
    "tags": []
   },
   "outputs": [
    {
     "name": "stdout",
     "output_type": "stream",
     "text": [
      "Filesystem      Size  Used Avail Use% Mounted on\n",
      "overlay         100G   43G   58G  43% /\n",
      "tmpfs            64M     0   64M   0% /dev\n",
      "tmpfs           7.7G     0  7.7G   0% /sys/fs/cgroup\n",
      "/dev/nvme0n1p1  100G   43G   58G  43% /run\n",
      "tmpfs            14G     0   14G   0% /dev/shm\n",
      "/dev/nvme2n1    2.0G  133M  1.8G   7% /home/jovyan\n",
      "tmpfs            14G  120K   14G   1% /home/jovyan/.saturn\n",
      "tmpfs            14G   12K   14G   1% /run/secrets/kubernetes.io/serviceaccount\n",
      "tmpfs           7.7G   12K  7.7G   1% /proc/driver/nvidia\n",
      "tmpfs           7.7G  6.8M  7.7G   1% /run/nvidia-persistenced/socket\n",
      "tmpfs           7.7G     0  7.7G   0% /proc/acpi\n",
      "tmpfs           7.7G     0  7.7G   0% /sys/firmware\n"
     ]
    }
   ],
   "source": [
    "!df -h"
   ]
  },
  {
   "cell_type": "code",
   "execution_count": 3,
   "id": "7f216b47-6b7a-43be-ade6-2f85171eb2c7",
   "metadata": {
    "execution": {
     "iopub.execute_input": "2024-07-02T00:32:32.898536Z",
     "iopub.status.busy": "2024-07-02T00:32:32.898136Z",
     "iopub.status.idle": "2024-07-02T00:32:32.902556Z",
     "shell.execute_reply": "2024-07-02T00:32:32.901625Z",
     "shell.execute_reply.started": "2024-07-02T00:32:32.898508Z"
    },
    "tags": []
   },
   "outputs": [],
   "source": [
    "import os\n",
    "os.environ['HF_HOME'] = '/run/cache/'"
   ]
  },
  {
   "cell_type": "code",
   "execution_count": 7,
   "id": "eb1ed04e-9d3f-4593-9fd4-a4381c258623",
   "metadata": {
    "execution": {
     "iopub.execute_input": "2024-07-02T00:38:58.793954Z",
     "iopub.status.busy": "2024-07-02T00:38:58.793310Z",
     "iopub.status.idle": "2024-07-02T00:38:58.801180Z",
     "shell.execute_reply": "2024-07-02T00:38:58.800504Z",
     "shell.execute_reply.started": "2024-07-02T00:38:58.793928Z"
    },
    "tags": []
   },
   "outputs": [],
   "source": [
    "from huggingface_hub import login"
   ]
  },
  {
   "cell_type": "code",
   "execution_count": 8,
   "id": "1356342a-bd62-4252-a310-b9e7450b6258",
   "metadata": {
    "execution": {
     "iopub.execute_input": "2024-07-02T00:39:16.420442Z",
     "iopub.status.busy": "2024-07-02T00:39:16.420065Z",
     "iopub.status.idle": "2024-07-02T00:39:16.450262Z",
     "shell.execute_reply": "2024-07-02T00:39:16.449582Z",
     "shell.execute_reply.started": "2024-07-02T00:39:16.420415Z"
    },
    "tags": []
   },
   "outputs": [
    {
     "name": "stdout",
     "output_type": "stream",
     "text": [
      "The token has not been saved to the git credentials helper. Pass `add_to_git_credential=True` in this function directly or `--add-to-git-credential` if using via `huggingface-cli` if you want to set the git credential as well.\n",
      "Token is valid (permission: write).\n",
      "Your token has been saved to /run/cache/token\n",
      "Login successful\n"
     ]
    }
   ],
   "source": [
    "login(token=os.environ['HF_TOKEN'])"
   ]
  },
  {
   "cell_type": "code",
   "execution_count": 4,
   "id": "cb89e497-488a-4eca-8ffe-53edf471d965",
   "metadata": {
    "execution": {
     "iopub.execute_input": "2024-07-02T00:32:45.812539Z",
     "iopub.status.busy": "2024-07-02T00:32:45.812175Z",
     "iopub.status.idle": "2024-07-02T00:32:48.620036Z",
     "shell.execute_reply": "2024-07-02T00:32:48.619361Z",
     "shell.execute_reply.started": "2024-07-02T00:32:45.812513Z"
    },
    "tags": []
   },
   "outputs": [],
   "source": [
    "from transformers import AutoModelForCausalLM\n",
    "from transformers import AutoTokenizer"
   ]
  },
  {
   "cell_type": "code",
   "execution_count": 6,
   "id": "9d3f1c5d-39ca-4a8c-828c-017ea7791d8b",
   "metadata": {
    "execution": {
     "iopub.execute_input": "2024-07-02T00:35:10.346919Z",
     "iopub.status.busy": "2024-07-02T00:35:10.346528Z",
     "iopub.status.idle": "2024-07-02T00:38:44.227411Z",
     "shell.execute_reply": "2024-07-02T00:38:44.226789Z",
     "shell.execute_reply.started": "2024-07-02T00:35:10.346894Z"
    },
    "tags": []
   },
   "outputs": [
    {
     "data": {
      "application/vnd.jupyter.widget-view+json": {
       "model_id": "e451d57baf154c7caf524bbe7c5fddc0",
       "version_major": 2,
       "version_minor": 0
      },
      "text/plain": [
       "config.json:   0%|          | 0.00/571 [00:00<?, ?B/s]"
      ]
     },
     "metadata": {},
     "output_type": "display_data"
    },
    {
     "name": "stderr",
     "output_type": "stream",
     "text": [
      "The `load_in_4bit` and `load_in_8bit` arguments are deprecated and will be removed in the future versions. Please, pass a `BitsAndBytesConfig` object in `quantization_config` argument instead.\n"
     ]
    },
    {
     "data": {
      "application/vnd.jupyter.widget-view+json": {
       "model_id": "4cb40401322d4200933a0546a3829cd5",
       "version_major": 2,
       "version_minor": 0
      },
      "text/plain": [
       "model.safetensors.index.json:   0%|          | 0.00/25.1k [00:00<?, ?B/s]"
      ]
     },
     "metadata": {},
     "output_type": "display_data"
    },
    {
     "data": {
      "application/vnd.jupyter.widget-view+json": {
       "model_id": "3fa3901b3853468686cc7870bb813ec4",
       "version_major": 2,
       "version_minor": 0
      },
      "text/plain": [
       "Downloading shards:   0%|          | 0/2 [00:00<?, ?it/s]"
      ]
     },
     "metadata": {},
     "output_type": "display_data"
    },
    {
     "data": {
      "application/vnd.jupyter.widget-view+json": {
       "model_id": "9ed195e6e3b24a71a4a24924262cd96d",
       "version_major": 2,
       "version_minor": 0
      },
      "text/plain": [
       "model-00001-of-00002.safetensors:   0%|          | 0.00/9.94G [00:00<?, ?B/s]"
      ]
     },
     "metadata": {},
     "output_type": "display_data"
    },
    {
     "data": {
      "application/vnd.jupyter.widget-view+json": {
       "model_id": "79b49ddfc72d432396cedf25eae29ef1",
       "version_major": 2,
       "version_minor": 0
      },
      "text/plain": [
       "model-00002-of-00002.safetensors:   0%|          | 0.00/4.54G [00:00<?, ?B/s]"
      ]
     },
     "metadata": {},
     "output_type": "display_data"
    },
    {
     "data": {
      "application/vnd.jupyter.widget-view+json": {
       "model_id": "585bfe6ebfdb455d9be360f4be847909",
       "version_major": 2,
       "version_minor": 0
      },
      "text/plain": [
       "Loading checkpoint shards:   0%|          | 0/2 [00:00<?, ?it/s]"
      ]
     },
     "metadata": {},
     "output_type": "display_data"
    },
    {
     "data": {
      "application/vnd.jupyter.widget-view+json": {
       "model_id": "5f5a3cedc4a8428796fad65a2d6953b6",
       "version_major": 2,
       "version_minor": 0
      },
      "text/plain": [
       "generation_config.json:   0%|          | 0.00/116 [00:00<?, ?B/s]"
      ]
     },
     "metadata": {},
     "output_type": "display_data"
    },
    {
     "data": {
      "application/vnd.jupyter.widget-view+json": {
       "model_id": "1d015eaee6194f05bf6a06cd3ff16575",
       "version_major": 2,
       "version_minor": 0
      },
      "text/plain": [
       "tokenizer_config.json:   0%|          | 0.00/967 [00:00<?, ?B/s]"
      ]
     },
     "metadata": {},
     "output_type": "display_data"
    },
    {
     "data": {
      "application/vnd.jupyter.widget-view+json": {
       "model_id": "2aeb08bee75e453fa7819abc3731ee13",
       "version_major": 2,
       "version_minor": 0
      },
      "text/plain": [
       "tokenizer.model:   0%|          | 0.00/493k [00:00<?, ?B/s]"
      ]
     },
     "metadata": {},
     "output_type": "display_data"
    },
    {
     "data": {
      "application/vnd.jupyter.widget-view+json": {
       "model_id": "6d440e49f16a4315b446971ebc351ef6",
       "version_major": 2,
       "version_minor": 0
      },
      "text/plain": [
       "tokenizer.json:   0%|          | 0.00/1.80M [00:00<?, ?B/s]"
      ]
     },
     "metadata": {},
     "output_type": "display_data"
    },
    {
     "data": {
      "application/vnd.jupyter.widget-view+json": {
       "model_id": "acdd32095f0646a39f0e24948222edd6",
       "version_major": 2,
       "version_minor": 0
      },
      "text/plain": [
       "special_tokens_map.json:   0%|          | 0.00/72.0 [00:00<?, ?B/s]"
      ]
     },
     "metadata": {},
     "output_type": "display_data"
    }
   ],
   "source": [
    "model = AutoModelForCausalLM.from_pretrained(\n",
    "    \"mistralai/Mistral-7B-v0.1\", device_map=\"auto\", load_in_4bit=True\n",
    ")\n",
    "\n",
    "tokenizer = AutoTokenizer.from_pretrained(\"mistralai/Mistral-7B-v0.1\", padding_side=\"left\")"
   ]
  },
  {
   "cell_type": "code",
   "execution_count": 9,
   "id": "5c3ffc20-e479-494b-98ae-87633d2c7436",
   "metadata": {
    "execution": {
     "iopub.execute_input": "2024-07-02T00:43:01.599799Z",
     "iopub.status.busy": "2024-07-02T00:43:01.599416Z",
     "iopub.status.idle": "2024-07-02T00:43:01.604451Z",
     "shell.execute_reply": "2024-07-02T00:43:01.603712Z",
     "shell.execute_reply.started": "2024-07-02T00:43:01.599773Z"
    },
    "tags": []
   },
   "outputs": [],
   "source": [
    "model_inputs = tokenizer([\"A list of colors: red, blue\"], return_tensors=\"pt\").to(\"cuda\")"
   ]
  },
  {
   "cell_type": "code",
   "execution_count": 10,
   "id": "08a051ba-ec8e-4dc5-9b0c-b0866b070050",
   "metadata": {
    "execution": {
     "iopub.execute_input": "2024-07-02T00:43:19.966070Z",
     "iopub.status.busy": "2024-07-02T00:43:19.965680Z",
     "iopub.status.idle": "2024-07-02T00:43:22.241321Z",
     "shell.execute_reply": "2024-07-02T00:43:22.240491Z",
     "shell.execute_reply.started": "2024-07-02T00:43:19.966045Z"
    },
    "tags": []
   },
   "outputs": [
    {
     "name": "stderr",
     "output_type": "stream",
     "text": [
      "Setting `pad_token_id` to `eos_token_id`:2 for open-end generation.\n",
      "/opt/saturncloud/envs/saturn/lib/python3.9/site-packages/transformers/generation/utils.py:1249: UserWarning: Using the model-agnostic default `max_length` (=20) to control the generation length. We recommend setting `max_new_tokens` to control the maximum length of the generation.\n",
      "  warnings.warn(\n",
      "/opt/saturncloud/envs/saturn/lib/python3.9/site-packages/bitsandbytes/nn/modules.py:426: UserWarning: Input type into Linear4bit is torch.float16, but bnb_4bit_compute_dtype=torch.float32 (default). This will lead to slow inference or training speed.\n",
      "  warnings.warn(\n"
     ]
    },
    {
     "data": {
      "text/plain": [
       "'A list of colors: red, blue, green, yellow, orange, purple, pink,'"
      ]
     },
     "execution_count": 10,
     "metadata": {},
     "output_type": "execute_result"
    }
   ],
   "source": [
    "generated_ids = model.generate(**model_inputs)\n",
    "tokenizer.batch_decode(generated_ids, skip_special_tokens=True)[0]"
   ]
  },
  {
   "cell_type": "markdown",
   "id": "08a43853-e3a0-4192-a944-f6211e2f931e",
   "metadata": {},
   "source": [
    "### Now let's use our documents context"
   ]
  },
  {
   "cell_type": "code",
   "execution_count": 11,
   "id": "506fab2a-a50c-42bd-a106-c83a9d2828ea",
   "metadata": {
    "execution": {
     "iopub.execute_input": "2024-07-02T00:44:09.583789Z",
     "iopub.status.busy": "2024-07-02T00:44:09.582996Z",
     "iopub.status.idle": "2024-07-02T00:44:10.915576Z",
     "shell.execute_reply": "2024-07-02T00:44:10.914878Z",
     "shell.execute_reply.started": "2024-07-02T00:44:09.583758Z"
    },
    "tags": []
   },
   "outputs": [
    {
     "name": "stderr",
     "output_type": "stream",
     "text": [
      "huggingface/tokenizers: The current process just got forked, after parallelism has already been used. Disabling parallelism to avoid deadlocks...\n",
      "To disable this warning, you can either:\n",
      "\t- Avoid using `tokenizers` before the fork if possible\n",
      "\t- Explicitly set the environment variable TOKENIZERS_PARALLELISM=(true | false)\n",
      "huggingface/tokenizers: The current process just got forked, after parallelism has already been used. Disabling parallelism to avoid deadlocks...\n",
      "To disable this warning, you can either:\n",
      "\t- Avoid using `tokenizers` before the fork if possible\n",
      "\t- Explicitly set the environment variable TOKENIZERS_PARALLELISM=(true | false)\n"
     ]
    },
    {
     "name": "stdout",
     "output_type": "stream",
     "text": [
      "--2024-07-02 00:44:10--  https://raw.githubusercontent.com/alexeygrigorev/minsearch/main/minsearch.py\n",
      "Resolving raw.githubusercontent.com (raw.githubusercontent.com)... 185.199.108.133, 185.199.110.133, 185.199.109.133, ...\n",
      "Connecting to raw.githubusercontent.com (raw.githubusercontent.com)|185.199.108.133|:443... connected.\n",
      "HTTP request sent, awaiting response... 200 OK\n",
      "Length: 3832 (3.7K) [text/plain]\n",
      "Saving to: ‘minsearch.py’\n",
      "\n",
      "minsearch.py        100%[===================>]   3.74K  --.-KB/s    in 0s      \n",
      "\n",
      "2024-07-02 00:44:10 (91.9 MB/s) - ‘minsearch.py’ saved [3832/3832]\n",
      "\n"
     ]
    }
   ],
   "source": [
    "!rm -f minsearch.py\n",
    "!wget https://raw.githubusercontent.com/alexeygrigorev/minsearch/main/minsearch.py"
   ]
  },
  {
   "cell_type": "code",
   "execution_count": 12,
   "id": "3ac947de-effd-4b61-8792-a6d7a133f347",
   "metadata": {
    "execution": {
     "iopub.execute_input": "2024-07-02T00:44:24.872019Z",
     "iopub.status.busy": "2024-07-02T00:44:24.871609Z",
     "iopub.status.idle": "2024-07-02T00:44:27.225126Z",
     "shell.execute_reply": "2024-07-02T00:44:27.224418Z",
     "shell.execute_reply.started": "2024-07-02T00:44:24.871980Z"
    },
    "tags": []
   },
   "outputs": [
    {
     "data": {
      "text/plain": [
       "<minsearch.Index at 0x7f95b9b77610>"
      ]
     },
     "execution_count": 12,
     "metadata": {},
     "output_type": "execute_result"
    }
   ],
   "source": [
    "import requests \n",
    "import minsearch\n",
    "\n",
    "docs_url = 'https://github.com/DataTalksClub/llm-zoomcamp/blob/main/01-intro/documents.json?raw=1'\n",
    "docs_response = requests.get(docs_url)\n",
    "documents_raw = docs_response.json()\n",
    "\n",
    "documents = []\n",
    "\n",
    "for course in documents_raw:\n",
    "    course_name = course['course']\n",
    "\n",
    "    for doc in course['documents']:\n",
    "        doc['course'] = course_name\n",
    "        documents.append(doc)\n",
    "\n",
    "index = minsearch.Index(\n",
    "    text_fields=[\"question\", \"text\", \"section\"],\n",
    "    keyword_fields=[\"course\"]\n",
    ")\n",
    "\n",
    "index.fit(documents)"
   ]
  },
  {
   "cell_type": "code",
   "execution_count": 30,
   "id": "8f087272-b44d-4738-9ea2-175ec63a058b",
   "metadata": {
    "execution": {
     "iopub.execute_input": "2024-07-02T00:57:00.628321Z",
     "iopub.status.busy": "2024-07-02T00:57:00.627936Z",
     "iopub.status.idle": "2024-07-02T00:57:00.632612Z",
     "shell.execute_reply": "2024-07-02T00:57:00.631785Z",
     "shell.execute_reply.started": "2024-07-02T00:57:00.628295Z"
    },
    "tags": []
   },
   "outputs": [],
   "source": [
    "def search(query):\n",
    "    boost = {'question': 3.0, 'section': 0.5}\n",
    "\n",
    "    results = index.search(\n",
    "        query=query,\n",
    "        filter_dict={'course': 'data-engineering-zoomcamp'},\n",
    "        boost_dict=boost,\n",
    "        num_results=3\n",
    "    )\n",
    "\n",
    "    return results"
   ]
  },
  {
   "cell_type": "code",
   "execution_count": 31,
   "id": "d12f3bb7-fa56-442a-93dc-342cb474fe95",
   "metadata": {
    "execution": {
     "iopub.execute_input": "2024-07-02T00:57:03.127668Z",
     "iopub.status.busy": "2024-07-02T00:57:03.127314Z",
     "iopub.status.idle": "2024-07-02T00:57:03.131719Z",
     "shell.execute_reply": "2024-07-02T00:57:03.130889Z",
     "shell.execute_reply.started": "2024-07-02T00:57:03.127641Z"
    },
    "tags": []
   },
   "outputs": [],
   "source": [
    "from transformers import pipeline\n",
    "generator = pipeline(\"text-generation\", model=model, tokenizer=tokenizer)"
   ]
  },
  {
   "cell_type": "code",
   "execution_count": 32,
   "id": "742ab881-499a-4675-83c4-2013ea1377b9",
   "metadata": {
    "execution": {
     "iopub.execute_input": "2024-07-02T00:57:04.068273Z",
     "iopub.status.busy": "2024-07-02T00:57:04.067977Z",
     "iopub.status.idle": "2024-07-02T00:57:04.073383Z",
     "shell.execute_reply": "2024-07-02T00:57:04.072608Z",
     "shell.execute_reply.started": "2024-07-02T00:57:04.068251Z"
    },
    "tags": []
   },
   "outputs": [],
   "source": [
    "def build_prompt(query, search_results):\n",
    "    prompt_template = \"\"\"\n",
    "QUESTION: {question}\n",
    "\n",
    "CONTEXT:\n",
    "{context}\n",
    "\n",
    "ANSWER:\n",
    "\"\"\".strip()\n",
    "\n",
    "    context = \"\"\n",
    "    \n",
    "    for doc in search_results:\n",
    "        context = context + f\"{doc['question']}\\n{doc['text']}\\n\\n\"\n",
    "    \n",
    "    prompt = prompt_template.format(question=query, context=context).strip()\n",
    "    return prompt\n",
    "\n",
    "def llm(prompt):\n",
    "    response = generator(prompt, max_length=500, temperature=0.7, top_p=0.95, num_return_sequences=1, truncation=True)\n",
    "    response_final = response[0]['generated_text']\n",
    "    return response_final[len(prompt):].strip()"
   ]
  },
  {
   "cell_type": "code",
   "execution_count": 33,
   "id": "fe8bff3e-b672-42be-866b-f2d9bb217106",
   "metadata": {
    "execution": {
     "iopub.execute_input": "2024-07-02T00:57:05.800098Z",
     "iopub.status.busy": "2024-07-02T00:57:05.799703Z",
     "iopub.status.idle": "2024-07-02T00:57:05.803899Z",
     "shell.execute_reply": "2024-07-02T00:57:05.803163Z",
     "shell.execute_reply.started": "2024-07-02T00:57:05.800072Z"
    },
    "tags": []
   },
   "outputs": [],
   "source": [
    "def rag(query):\n",
    "    search_results = search(query)\n",
    "    prompt = build_prompt(query, search_results)\n",
    "    answer = llm(prompt)\n",
    "    return answer"
   ]
  },
  {
   "cell_type": "code",
   "execution_count": 34,
   "id": "20abcb62-6afd-41c4-9a0f-91e2f35eb314",
   "metadata": {
    "execution": {
     "iopub.execute_input": "2024-07-02T00:57:06.620121Z",
     "iopub.status.busy": "2024-07-02T00:57:06.619632Z",
     "iopub.status.idle": "2024-07-02T00:57:23.694253Z",
     "shell.execute_reply": "2024-07-02T00:57:23.693525Z",
     "shell.execute_reply.started": "2024-07-02T00:57:06.620099Z"
    },
    "tags": []
   },
   "outputs": [
    {
     "name": "stderr",
     "output_type": "stream",
     "text": [
      "Setting `pad_token_id` to `eos_token_id`:2 for open-end generation.\n"
     ]
    },
    {
     "data": {
      "text/plain": [
       "'Yes, you can still join the course.'"
      ]
     },
     "execution_count": 34,
     "metadata": {},
     "output_type": "execute_result"
    }
   ],
   "source": [
    "rag(\"I just discovered the course. Can I still join it?\")"
   ]
  },
  {
   "cell_type": "code",
   "execution_count": null,
   "id": "ad24a3f7-8a7d-49ce-ab84-fc7592dff6e3",
   "metadata": {},
   "outputs": [],
   "source": []
  }
 ],
 "metadata": {
  "kernelspec": {
   "display_name": "saturn (Python 3)",
   "language": "python",
   "name": "python3"
  },
  "language_info": {
   "codemirror_mode": {
    "name": "ipython",
    "version": 3
   },
   "file_extension": ".py",
   "mimetype": "text/x-python",
   "name": "python",
   "nbconvert_exporter": "python",
   "pygments_lexer": "ipython3",
   "version": "3.9.18"
  }
 },
 "nbformat": 4,
 "nbformat_minor": 5
}
