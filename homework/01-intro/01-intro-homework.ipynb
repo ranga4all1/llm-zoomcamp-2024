{
 "cells": [
  {
   "cell_type": "markdown",
   "id": "0a379336-ff7e-4b73-ba21-bb3e1f5eb3c5",
   "metadata": {},
   "source": [
    "# 01-intro-homework\n",
    "\n",
    "### Running ElasticSearch:\n",
    "\n",
    "```\n",
    "docker run -it \\\n",
    "    --rm \\\n",
    "    --name elasticsearch \\\n",
    "    -p 9200:9200 \\\n",
    "    -p 9300:9300 \\\n",
    "    -e \"discovery.type=single-node\" \\\n",
    "    -e \"xpack.security.enabled=false\" \\\n",
    "    docker.elastic.co/elasticsearch/elasticsearch:8.4.3\n",
    "```"
   ]
  },
  {
   "cell_type": "markdown",
   "id": "346711ce-c852-48f5-84b1-c473ae63e7a3",
   "metadata": {},
   "source": [
    "**Q1. Running Elastic: What's the `version.build_hash` value?**\n",
    "\n",
    "**Answer: 42f05b9372a9a4a470db3b52817899b99a76ee73**"
   ]
  },
  {
   "cell_type": "code",
   "execution_count": 1,
   "id": "4099b366-d450-4534-a585-353fd181e48c",
   "metadata": {},
   "outputs": [
    {
     "name": "stdout",
     "output_type": "stream",
     "text": [
      "{\n",
      "  \"name\" : \"d28a62f27906\",\n",
      "  \"cluster_name\" : \"docker-cluster\",\n",
      "  \"cluster_uuid\" : \"s4Axbrl_QO-veiqRCQudVg\",\n",
      "  \"version\" : {\n",
      "    \"number\" : \"8.4.3\",\n",
      "    \"build_flavor\" : \"default\",\n",
      "    \"build_type\" : \"docker\",\n",
      "    \"build_hash\" : \"42f05b9372a9a4a470db3b52817899b99a76ee73\",\n",
      "    \"build_date\" : \"2022-10-04T07:17:24.662462378Z\",\n",
      "    \"build_snapshot\" : false,\n",
      "    \"lucene_version\" : \"9.3.0\",\n",
      "    \"minimum_wire_compatibility_version\" : \"7.17.0\",\n",
      "    \"minimum_index_compatibility_version\" : \"7.0.0\"\n",
      "  },\n",
      "  \"tagline\" : \"You Know, for Search\"\n",
      "}\n"
     ]
    }
   ],
   "source": [
    "# verify\n",
    "! curl localhost:9200"
   ]
  },
  {
   "cell_type": "markdown",
   "id": "65e26546-16db-4743-8527-823555633674",
   "metadata": {},
   "source": [
    "## Getting the data"
   ]
  },
  {
   "cell_type": "code",
   "execution_count": 2,
   "id": "09964a01-0641-449d-9874-952cd38339fb",
   "metadata": {},
   "outputs": [],
   "source": [
    "import requests \n",
    "\n",
    "docs_url = 'https://github.com/DataTalksClub/llm-zoomcamp/blob/main/01-intro/documents.json?raw=1'\n",
    "docs_response = requests.get(docs_url)\n",
    "documents_raw = docs_response.json()\n",
    "\n",
    "documents = []\n",
    "\n",
    "for course in documents_raw:\n",
    "    course_name = course['course']\n",
    "\n",
    "    for doc in course['documents']:\n",
    "        doc['course'] = course_name\n",
    "        documents.append(doc)"
   ]
  },
  {
   "cell_type": "code",
   "execution_count": 3,
   "id": "aca770c4-863d-4fde-a16e-ad5e465aee24",
   "metadata": {},
   "outputs": [],
   "source": [
    "# documents_raw"
   ]
  },
  {
   "cell_type": "code",
   "execution_count": 4,
   "id": "4a42a6ee-54de-4960-81c0-5a6063eb7372",
   "metadata": {},
   "outputs": [
    {
     "data": {
      "text/plain": [
       "{'text': \"The purpose of this document is to capture frequently asked technical questions\\nThe exact day and hour of the course will be 15th Jan 2024 at 17h00. The course will start with the first  “Office Hours'' live.1\\nSubscribe to course public Google Calendar (it works from Desktop only).\\nRegister before the course starts using this link.\\nJoin the course Telegram channel with announcements.\\nDon’t forget to register in DataTalks.Club's Slack and join the channel.\",\n",
       " 'section': 'General course-related questions',\n",
       " 'question': 'Course - When will the course start?',\n",
       " 'course': 'data-engineering-zoomcamp'}"
      ]
     },
     "execution_count": 4,
     "metadata": {},
     "output_type": "execute_result"
    }
   ],
   "source": [
    "documents[0]"
   ]
  },
  {
   "cell_type": "markdown",
   "id": "6003b327-0f52-43ac-aa4b-0236f54b29a0",
   "metadata": {},
   "source": [
    "### Indexing the data"
   ]
  },
  {
   "cell_type": "code",
   "execution_count": 5,
   "id": "4277f0ad-af44-415a-bc82-59237bfcd3d6",
   "metadata": {},
   "outputs": [
    {
     "name": "stderr",
     "output_type": "stream",
     "text": [
      "/usr/local/python/3.10.13/lib/python3.10/site-packages/tqdm/auto.py:21: TqdmWarning: IProgress not found. Please update jupyter and ipywidgets. See https://ipywidgets.readthedocs.io/en/stable/user_install.html\n",
      "  from .autonotebook import tqdm as notebook_tqdm\n"
     ]
    }
   ],
   "source": [
    "from elasticsearch import Elasticsearch\n",
    "from tqdm.auto import tqdm"
   ]
  },
  {
   "cell_type": "code",
   "execution_count": 6,
   "id": "864a0032-be06-4cb5-b1fd-b338d55784a2",
   "metadata": {},
   "outputs": [],
   "source": [
    "es_client = Elasticsearch('http://localhost:9200') "
   ]
  },
  {
   "cell_type": "code",
   "execution_count": 7,
   "id": "15eb5d29-2edf-461c-a21b-38bacf703d31",
   "metadata": {},
   "outputs": [
    {
     "data": {
      "text/plain": [
       "<bound method Elasticsearch.info of <Elasticsearch(['http://localhost:9200'])>>"
      ]
     },
     "execution_count": 7,
     "metadata": {},
     "output_type": "execute_result"
    }
   ],
   "source": [
    "es_client.info"
   ]
  },
  {
   "cell_type": "code",
   "execution_count": 8,
   "id": "3d52545b-2299-4043-bc6b-3c20af6a78db",
   "metadata": {},
   "outputs": [],
   "source": [
    "index_settings = {\n",
    "    \"settings\": {\n",
    "        \"number_of_shards\": 1,\n",
    "        \"number_of_replicas\": 0\n",
    "    },\n",
    "    \"mappings\": {\n",
    "        \"properties\": {\n",
    "            \"text\": {\"type\": \"text\"},\n",
    "            \"section\": {\"type\": \"text\"},\n",
    "            \"question\": {\"type\": \"text\"},\n",
    "            \"course\": {\"type\": \"keyword\"} \n",
    "        }\n",
    "    }\n",
    "}\n",
    "\n",
    "index_name = \"course-questions\"\n",
    "\n",
    "# Create the index\n",
    "if not es_client.indices.exists(index=index_name):\n",
    "    es_client.indices.create(index=index_name, body=index_settings)"
   ]
  },
  {
   "cell_type": "markdown",
   "id": "c39016c8-062c-41a8-b4cf-6431212d7fbc",
   "metadata": {},
   "source": [
    "**Q2: Which function do you use for adding your data to elastic?**\n",
    "\n",
    "**Answer: Index**"
   ]
  },
  {
   "cell_type": "code",
   "execution_count": 9,
   "id": "0f9e111a-8da3-48ce-bc36-955fdb4a78ea",
   "metadata": {},
   "outputs": [
    {
     "name": "stderr",
     "output_type": "stream",
     "text": [
      "100%|███████████████████████████████████████████████████████████████████████████████████████████████████████████████████████████████████| 948/948 [00:18<00:00, 50.16it/s]\n"
     ]
    }
   ],
   "source": [
    "for doc in tqdm(documents):\n",
    "    es_client.index(index=index_name, document=doc)"
   ]
  },
  {
   "cell_type": "markdown",
   "id": "27a95e69-d865-4fbc-a6df-550363c5bb4a",
   "metadata": {},
   "source": [
    "\n",
    "### Searching"
   ]
  },
  {
   "cell_type": "markdown",
   "id": "46a4b248-c477-4396-87d3-55867a221fed",
   "metadata": {},
   "source": [
    "**Q3. Searching:\n",
    "Now let's search in our index.**\n",
    "\n",
    "We will execute a query \"How do I execute a command in a running docker container?\".\n",
    "\n",
    "Use only question and text fields and give question a boost of 4, and use \"type\": \"best_fields\".\n",
    "\n",
    "What's the score for the top ranking result?\n",
    "\n",
    "- 94.05\n",
    "- 84.05\n",
    "- 74.05\n",
    "- 64.05\n",
    "  \n",
    "Look at the _score field.\n",
    "**\n",
    "\n",
    "**Answer: 84.05**"
   ]
  },
  {
   "cell_type": "code",
   "execution_count": 10,
   "id": "d6d2bf65-2ddb-4c11-9e8a-4a0e899a1a8f",
   "metadata": {},
   "outputs": [],
   "source": [
    "query = 'How do I execute a command in a running docker container?'"
   ]
  },
  {
   "cell_type": "code",
   "execution_count": 11,
   "id": "98942224-e73c-478e-9e9c-56939df09594",
   "metadata": {
    "scrolled": true
   },
   "outputs": [],
   "source": [
    "search_query = {\n",
    "    \"size\": 2,\n",
    "    \"query\": {\n",
    "        \"bool\": {\n",
    "            \"must\": {\n",
    "                \"multi_match\": {\n",
    "                    \"query\": query,\n",
    "                    \"fields\": [\"question^4\", \"text\"],\n",
    "                    \"type\": \"best_fields\"\n",
    "                }\n",
    "            },\n",
    "            # \"filter\": {\n",
    "            #     \"term\": {\n",
    "            #         \"course\": \"machine-learning-zoomcamp\"\n",
    "            #     }\n",
    "            # }\n",
    "        }\n",
    "    }\n",
    "}\n",
    "\n",
    "# Search for documents\n",
    "response = es_client.search(index=index_name, body=search_query)"
   ]
  },
  {
   "cell_type": "code",
   "execution_count": 12,
   "id": "068674db-c62b-460d-bcd0-d22765277625",
   "metadata": {},
   "outputs": [
    {
     "name": "stdout",
     "output_type": "stream",
     "text": [
      "{'took': 42, 'timed_out': False, '_shards': {'total': 1, 'successful': 1, 'skipped': 0, 'failed': 0}, 'hits': {'total': {'value': 865, 'relation': 'eq'}, 'max_score': 84.050095, 'hits': [{'_index': 'course-questions', '_id': 'JBLXW5ABxtaj71SAjm1y', '_score': 84.050095, '_source': {'text': 'Launch the container image in interactive mode and overriding the entrypoint, so that it starts a bash command.\\ndocker run -it --entrypoint bash <image>\\nIf the container is already running, execute a command in the specific container:\\ndocker ps (find the container-id)\\ndocker exec -it <container-id> bash\\n(Marcos MJD)', 'section': '5. Deploying Machine Learning Models', 'question': 'How do I debug a docker container?', 'course': 'machine-learning-zoomcamp'}}, {'_index': 'course-questions', '_id': 'MhLXW5ABxtaj71SAZ2vw', '_score': 75.54128, '_source': {'text': 'In case running pgcli  locally causes issues or you do not want to install it locally you can use it running in a Docker container instead.\\nBelow the usage with values used in the videos of the course for:\\nnetwork name (docker network)\\npostgres related variables for pgcli\\nHostname\\nUsername\\nPort\\nDatabase name\\n$ docker run -it --rm --network pg-network ai2ys/dockerized-pgcli:4.0.1\\n175dd47cda07:/# pgcli -h pg-database -U root -p 5432 -d ny_taxi\\nPassword for root:\\nServer: PostgreSQL 16.1 (Debian 16.1-1.pgdg120+1)\\nVersion: 4.0.1\\nHome: http://pgcli.com\\nroot@pg-database:ny_taxi> \\\\dt\\n+--------+------------------+-------+-------+\\n| Schema | Name             | Type  | Owner |\\n|--------+------------------+-------+-------|\\n| public | yellow_taxi_data | table | root  |\\n+--------+------------------+-------+-------+\\nSELECT 1\\nTime: 0.009s\\nroot@pg-database:ny_taxi>', 'section': 'Module 1: Docker and Terraform', 'question': 'PGCLI - running in a Docker container', 'course': 'data-engineering-zoomcamp'}}]}}\n"
     ]
    }
   ],
   "source": [
    "print(response)"
   ]
  },
  {
   "cell_type": "code",
   "execution_count": 13,
   "id": "52a45da6-902a-4c1d-bef0-d7bda3b5b340",
   "metadata": {},
   "outputs": [
    {
     "name": "stdout",
     "output_type": "stream",
     "text": [
      "Top ranking result score: 84.050095\n"
     ]
    }
   ],
   "source": [
    "# Get the score of the top-ranking result\n",
    "top_score = response[\"hits\"][\"hits\"][0][\"_score\"]\n",
    "\n",
    "print(f\"Top ranking result score: {top_score}\")"
   ]
  },
  {
   "cell_type": "markdown",
   "id": "a27f0d39-7621-4103-bf25-39eea291c332",
   "metadata": {},
   "source": [
    "**Q4. Filtering: Now let's only limit the questions to machine-learning-zoomcamp. \n",
    "Return 3 results. What's the 3rd question returned by the search engine?**\n",
    "\n",
    "- How do I debug a docker container?\n",
    "- How do I copy files from a different folder into docker container’s working directory?\n",
    "- How do Lambda container images work?\n",
    "- How can I annotate a graph?\n",
    "\n",
    "**Answer: How do I copy files from a different folder into docker container’s working directory?**"
   ]
  },
  {
   "cell_type": "code",
   "execution_count": 39,
   "id": "c67c6483-7caf-4063-8e22-fdc0de7f16e6",
   "metadata": {},
   "outputs": [],
   "source": [
    "search_query = {\n",
    "    \"size\": 3,\n",
    "    \"query\": {\n",
    "        \"bool\": {\n",
    "            \"must\": {\n",
    "                \"multi_match\": {\n",
    "                    \"query\": query,\n",
    "                    \"fields\": [\"question^4\", \"text\"],\n",
    "                    \"type\": \"best_fields\"\n",
    "                }\n",
    "            },\n",
    "            \"filter\": {\n",
    "                \"term\": {\n",
    "                    \"course\": \"machine-learning-zoomcamp\"\n",
    "                }\n",
    "            }\n",
    "        }\n",
    "    }\n",
    "}\n",
    "\n",
    "# Search for documents\n",
    "response = es_client.search(index=index_name, body=search_query)"
   ]
  },
  {
   "cell_type": "code",
   "execution_count": 40,
   "id": "f6acbe47-5610-47ac-8bee-001e2ee222b5",
   "metadata": {},
   "outputs": [
    {
     "name": "stdout",
     "output_type": "stream",
     "text": [
      "{'took': 9, 'timed_out': False, '_shards': {'total': 1, 'successful': 1, 'skipped': 0, 'failed': 0}, 'hits': {'total': {'value': 345, 'relation': 'eq'}, 'max_score': 84.050095, 'hits': [{'_index': 'course-questions', '_id': 'JBLXW5ABxtaj71SAjm1y', '_score': 84.050095, '_source': {'text': 'Launch the container image in interactive mode and overriding the entrypoint, so that it starts a bash command.\\ndocker run -it --entrypoint bash <image>\\nIf the container is already running, execute a command in the specific container:\\ndocker ps (find the container-id)\\ndocker exec -it <container-id> bash\\n(Marcos MJD)', 'section': '5. Deploying Machine Learning Models', 'question': 'How do I debug a docker container?', 'course': 'machine-learning-zoomcamp'}}, {'_index': 'course-questions', '_id': 'QxLXW5ABxtaj71SAkG3M', '_score': 51.04628, '_source': {'text': \"You can copy files from your local machine into a Docker container using the docker cp command. Here's how to do it:\\nTo copy a file or directory from your local machine into a running Docker container, you can use the `docker cp command`. The basic syntax is as follows:\\ndocker cp /path/to/local/file_or_directory container_id:/path/in/container\\nHrithik Kumar Advani\", 'section': '5. Deploying Machine Learning Models', 'question': 'How do I copy files from my local machine to docker container?', 'course': 'machine-learning-zoomcamp'}}, {'_index': 'course-questions', '_id': 'RBLXW5ABxtaj71SAkG3f', '_score': 49.938507, '_source': {'text': 'You can copy files from your local machine into a Docker container using the docker cp command. Here\\'s how to do it:\\nIn the Dockerfile, you can provide the folder containing the files that you want to copy over. The basic syntax is as follows:\\nCOPY [\"src/predict.py\", \"models/xgb_model.bin\", \"./\"]\\t\\t\\t\\t\\t\\t\\t\\t\\t\\t\\tGopakumar Gopinathan', 'section': '5. Deploying Machine Learning Models', 'question': 'How do I copy files from a different folder into docker container’s working directory?', 'course': 'machine-learning-zoomcamp'}}]}}\n"
     ]
    }
   ],
   "source": [
    "print(response)"
   ]
  },
  {
   "cell_type": "code",
   "execution_count": 41,
   "id": "d601e6e9-4a99-48a5-be15-efc7d59b1e95",
   "metadata": {},
   "outputs": [
    {
     "name": "stdout",
     "output_type": "stream",
     "text": [
      "3rd question returned by the search engine: How do I copy files from a different folder into docker container’s working directory?\n"
     ]
    }
   ],
   "source": [
    "# Get the 3rd question from the results\n",
    "third_question = response[\"hits\"][\"hits\"][2][\"_source\"][\"question\"]\n",
    "\n",
    "print(f\"3rd question returned by the search engine: {third_question}\")"
   ]
  },
  {
   "cell_type": "markdown",
   "id": "fb05c656-fba6-40ee-834e-37acc4eb643a",
   "metadata": {},
   "source": [
    "### Building a prompt\n",
    "\n",
    "Now we're ready to build a prompt to send to an LLM.\n",
    "\n",
    "Take the records returned from Elasticsearch in Q4 and use this template to build the context. Separate context entries by two linebreaks (\\n\\n)\n",
    "\n",
    "Use the context you created along with the \"How do I execute a command in a running docker container?\" question to construct a prompt\n",
    "\n",
    "**Q5: What's the length of the resulting prompt? (use the len function)**\n",
    "\n",
    "- 962\n",
    "- 1462\n",
    "- 1962\n",
    "- 2462\n",
    "\n",
    "**Answer: 1462**"
   ]
  },
  {
   "cell_type": "code",
   "execution_count": 42,
   "id": "c6c76ae8-3b16-47eb-9964-66db84559a0d",
   "metadata": {},
   "outputs": [
    {
     "name": "stdout",
     "output_type": "stream",
     "text": [
      "You're a course teaching assistant. Answer the QUESTION based on the CONTEXT from the FAQ database.\n",
      "Use only the facts from the CONTEXT when answering the QUESTION.\n",
      "\n",
      "QUESTION: How do I execute a command in a running docker container?\n",
      "\n",
      "CONTEXT:\n",
      "Q: How do I debug a docker container?\n",
      "A: Launch the container image in interactive mode and overriding the entrypoint, so that it starts a bash command.\n",
      "docker run -it --entrypoint bash <image>\n",
      "If the container is already running, execute a command in the specific container:\n",
      "docker ps (find the container-id)\n",
      "docker exec -it <container-id> bash\n",
      "(Marcos MJD)\n",
      "\n",
      "Q: How do I copy files from my local machine to docker container?\n",
      "A: You can copy files from your local machine into a Docker container using the docker cp command. Here's how to do it:\n",
      "To copy a file or directory from your local machine into a running Docker container, you can use the `docker cp command`. The basic syntax is as follows:\n",
      "docker cp /path/to/local/file_or_directory container_id:/path/in/container\n",
      "Hrithik Kumar Advani\n",
      "\n",
      "Q: How do I copy files from a different folder into docker container’s working directory?\n",
      "A: You can copy files from your local machine into a Docker container using the docker cp command. Here's how to do it:\n",
      "In the Dockerfile, you can provide the folder containing the files that you want to copy over. The basic syntax is as follows:\n",
      "COPY [\"src/predict.py\", \"models/xgb_model.bin\", \"./\"]\t\t\t\t\t\t\t\t\t\t\tGopakumar Gopinathan\n"
     ]
    }
   ],
   "source": [
    "prompt_template = \"\"\"\n",
    "You're a course teaching assistant. Answer the QUESTION based on the CONTEXT from the FAQ database.\n",
    "Use only the facts from the CONTEXT when answering the QUESTION.\n",
    "\n",
    "QUESTION: {question}\n",
    "\n",
    "CONTEXT:\n",
    "{context}\n",
    "\"\"\"\n",
    "\n",
    "context_template = \"\"\"\n",
    "Q: {question}\n",
    "A: {text}\n",
    "\"\"\".strip()\n",
    "\n",
    "# Initialize the context string\n",
    "context = \"\"\n",
    "\n",
    "# Iterate over the hits in the response to build the context\n",
    "for doc in response['hits']['hits']:\n",
    "    context_entry = context_template.format(\n",
    "        question=doc['_source']['question'],\n",
    "        text=doc['_source']['text']\n",
    "    )\n",
    "    context += context_entry + \"\\n\\n\"  # Add double line breaks\n",
    "\n",
    "# Remove the trailing newlines for clean formatting\n",
    "context = context.strip()\n",
    "\n",
    "# Format the prompt with the question and context\n",
    "prompt = prompt_template.format(question=query, context=context).strip()\n",
    "\n",
    "# Print the prompt (for debugging purposes)\n",
    "print(prompt)"
   ]
  },
  {
   "cell_type": "code",
   "execution_count": 43,
   "id": "a2626ab1-96f9-4d58-aa0f-ced500988085",
   "metadata": {},
   "outputs": [
    {
     "data": {
      "text/plain": [
       "1462"
      ]
     },
     "execution_count": 43,
     "metadata": {},
     "output_type": "execute_result"
    }
   ],
   "source": [
    "len(prompt)"
   ]
  },
  {
   "cell_type": "markdown",
   "id": "84a8088a-b45c-4c43-9946-83a6b3369d99",
   "metadata": {},
   "source": [
    "### Tokens\n",
    "\n",
    "When we use the OpenAI Platform, we're charged by the number of tokens we send in our prompt and receive in the response.\n",
    "The OpenAI python package uses tiktoken for tokenization.\n",
    "Let's calculate the number of tokens in our query:\n",
    "encoding = tiktoken.encoding_for_model(\"gpt-4o\")\n",
    "\n",
    "**Q6: Use the encode function. How many tokens does our prompt have?**\n",
    "\n",
    "- 122\n",
    "- 222\n",
    "- 322\n",
    "- 422\n",
    "\n",
    "**Answer: 322**\n",
    "\n",
    "Note: to decode back a token into a word, you can use the decode_single_token_bytes function:\n",
    "\n",
    "encoding.decode_single_token_bytes(63842)"
   ]
  },
  {
   "cell_type": "code",
   "execution_count": 44,
   "id": "99a1dab5-820c-4b29-806e-3197f12c526c",
   "metadata": {},
   "outputs": [],
   "source": [
    "import tiktoken"
   ]
  },
  {
   "cell_type": "code",
   "execution_count": 45,
   "id": "5e430c1d-136a-4b59-98cb-d4de0b9a9698",
   "metadata": {},
   "outputs": [],
   "source": [
    "# Tokenize the prompt\n",
    "encoding = tiktoken.encoding_for_model(\"gpt-4o\")\n",
    "tokens = encoding.encode(prompt)"
   ]
  },
  {
   "cell_type": "code",
   "execution_count": 46,
   "id": "87b09ff1-012e-4da3-8fd4-9386e4a4ab90",
   "metadata": {},
   "outputs": [
    {
     "name": "stdout",
     "output_type": "stream",
     "text": [
      "322\n"
     ]
    }
   ],
   "source": [
    "# Print the number of tokens\n",
    "num_tokens = len(tokens)\n",
    "print(num_tokens)"
   ]
  },
  {
   "cell_type": "code",
   "execution_count": 47,
   "id": "8399a9b9-b3b2-4e62-93ad-4bdffb69ca52",
   "metadata": {},
   "outputs": [
    {
     "data": {
      "text/plain": [
       "[63842, 261, 4165]"
      ]
     },
     "execution_count": 47,
     "metadata": {},
     "output_type": "execute_result"
    }
   ],
   "source": [
    "tokens[0:3]"
   ]
  },
  {
   "cell_type": "code",
   "execution_count": 48,
   "id": "972c1371-b7fe-458e-9fac-b0b10754df3f",
   "metadata": {},
   "outputs": [
    {
     "name": "stdout",
     "output_type": "stream",
     "text": [
      "First token: 63842\n",
      "Decoded word: You're\n"
     ]
    }
   ],
   "source": [
    "# Decode a specific token back to its word\n",
    "# Let's decode the first token as an example\n",
    "first_token = tokens[0]\n",
    "decoded_word = encoding.decode_single_token_bytes(first_token).decode(\"utf-8\")\n",
    "print(f\"First token: {first_token}\")\n",
    "print(f\"Decoded word: {decoded_word}\")"
   ]
  },
  {
   "cell_type": "markdown",
   "id": "dbf5e78d-a95c-41d9-b927-d6525ecede27",
   "metadata": {},
   "source": [
    "### Bonus: generating the answer (ungraded)\n",
    "\n",
    "Let's send the prompt to OpenAI. What's the response?\n",
    "\n",
    "Note: you can replace OpenAI with Ollama. See module 2."
   ]
  },
  {
   "cell_type": "code",
   "execution_count": 49,
   "id": "9a33d237-4566-4bd7-8d6d-42d6ad4d65f8",
   "metadata": {},
   "outputs": [],
   "source": [
    "from openai import OpenAI\n",
    "import os"
   ]
  },
  {
   "cell_type": "code",
   "execution_count": 31,
   "id": "cb8fd872-d857-4f8a-b9c1-e757e5b1058f",
   "metadata": {},
   "outputs": [],
   "source": [
    "# os.environ"
   ]
  },
  {
   "cell_type": "code",
   "execution_count": 33,
   "id": "af7409db-d32d-412c-ac64-b908e0c16516",
   "metadata": {},
   "outputs": [],
   "source": [
    "client = OpenAI()"
   ]
  },
  {
   "cell_type": "code",
   "execution_count": 56,
   "id": "081716d9-1ada-4c68-8110-873513099b94",
   "metadata": {},
   "outputs": [
    {
     "name": "stdout",
     "output_type": "stream",
     "text": [
      "To execute a command in a running Docker container, you can use the `docker exec` command. Follow these steps:\n",
      "\n",
      "1. First, identify the running container's ID using:\n",
      "   ```sh\n",
      "   docker ps\n",
      "   ```\n",
      "\n",
      "2. Then, execute a command in the specific container using:\n",
      "   ```sh\n",
      "   docker exec -it <container-id> <command>\n",
      "   ```\n",
      "\n",
      "For example, to start a bash session in the running container, you would use:\n",
      "```sh\n",
      "docker exec -it <container-id> bash\n",
      "```\n",
      "\n",
      "Replace `<container-id>` with the actual ID of your running container.\n"
     ]
    }
   ],
   "source": [
    "# Send the prompt to OpenAI's GPT-4 model\n",
    "response = client.chat.completions.create(\n",
    "    model=\"gpt-4o\",\n",
    "    messages=[{\"role\": \"user\", \"content\": prompt}],\n",
    "    # max_tokens=150,  # You can adjust this as needed\n",
    "    # n=1,\n",
    "    # stop=None,\n",
    "    # temperature=0.7  # You can adjust this as needed\n",
    ")\n",
    "\n",
    "# Print the response\n",
    "answer = response.choices[0].message.content\n",
    "print(answer)"
   ]
  },
  {
   "cell_type": "markdown",
   "id": "f087af0f-99e8-437f-8740-cc46acc9e68f",
   "metadata": {},
   "source": [
    "### Bonus: calculating the costs (ungraded)\n",
    "\n",
    "Suppose that on average per request we send 150 tokens and receive back 250 tokens.\n",
    "\n",
    "How much will it cost to run 1000 requests?\n",
    "\n",
    "**Answer: $4.50**\n",
    "\n",
    "You can see the prices [here](https://openai.com/api/pricing/)\n",
    "\n",
    "On June 17, the prices for gpt4o are:\n",
    "\n",
    "* Input: $0.005 / 1K tokens\n",
    "  \n",
    "* Output: $0.015 / 1K tokens\n",
    "\n",
    "You can redo the calculations with the values you got in Q6 and Q7.\n",
    "\n",
    "**Answer: $3.49**"
   ]
  },
  {
   "cell_type": "code",
   "execution_count": 57,
   "id": "46be0fdc-3642-432f-b86a-2afc58c23af8",
   "metadata": {},
   "outputs": [
    {
     "name": "stdout",
     "output_type": "stream",
     "text": [
      "Total cost for 1000 requests: $4.50\n"
     ]
    }
   ],
   "source": [
    "# Given values\n",
    "input_tokens_per_request = 150\n",
    "output_tokens_per_request = 250\n",
    "requests = 1000\n",
    "\n",
    "# Prices per 1K tokens\n",
    "price_per_1k_input_tokens = 0.005\n",
    "price_per_1k_output_tokens = 0.015\n",
    "\n",
    "# Calculate total tokens\n",
    "total_input_tokens = input_tokens_per_request * requests\n",
    "total_output_tokens = output_tokens_per_request * requests\n",
    "\n",
    "# Convert to thousands of tokens\n",
    "total_input_tokens_in_k = total_input_tokens / 1000\n",
    "total_output_tokens_in_k = total_output_tokens / 1000\n",
    "\n",
    "# Calculate costs\n",
    "input_cost = total_input_tokens_in_k * price_per_1k_input_tokens\n",
    "output_cost = total_output_tokens_in_k * price_per_1k_output_tokens\n",
    "\n",
    "# Total cost\n",
    "total_cost = input_cost + output_cost\n",
    "\n",
    "print(f\"Total cost for 1000 requests: ${total_cost:.2f}\")\n"
   ]
  },
  {
   "cell_type": "markdown",
   "id": "54db3a53-f0a0-4979-8c0b-4d6e6974183e",
   "metadata": {},
   "source": [
    "**Redo the calculations with the values you got in Q6 and Q7.**"
   ]
  },
  {
   "cell_type": "code",
   "execution_count": 62,
   "id": "bf99fa3f-877a-4ea3-b79a-36fbd767399d",
   "metadata": {},
   "outputs": [],
   "source": [
    "# Tokenize the output\n",
    "tokens = encoding.encode(answer)"
   ]
  },
  {
   "cell_type": "code",
   "execution_count": 63,
   "id": "d4984ec4-af68-4f07-b7c7-357e5e8dce7f",
   "metadata": {},
   "outputs": [
    {
     "name": "stdout",
     "output_type": "stream",
     "text": [
      "125\n"
     ]
    }
   ],
   "source": [
    "# Print the number of tokens\n",
    "num_out_tokens = len(tokens)\n",
    "print(num_out_tokens)"
   ]
  },
  {
   "cell_type": "code",
   "execution_count": 64,
   "id": "81f3e004-e6ce-4142-8788-26a349228fb5",
   "metadata": {},
   "outputs": [
    {
     "name": "stdout",
     "output_type": "stream",
     "text": [
      "Total cost for 1000 requests: $3.49\n"
     ]
    }
   ],
   "source": [
    "# Given values\n",
    "input_tokens_per_request = 322\n",
    "output_tokens_per_request = 125\n",
    "requests = 1000\n",
    "\n",
    "# Prices per 1K tokens\n",
    "price_per_1k_input_tokens = 0.005\n",
    "price_per_1k_output_tokens = 0.015\n",
    "\n",
    "# Calculate total tokens\n",
    "total_input_tokens = input_tokens_per_request * requests\n",
    "total_output_tokens = output_tokens_per_request * requests\n",
    "\n",
    "# Convert to thousands of tokens\n",
    "total_input_tokens_in_k = total_input_tokens / 1000\n",
    "total_output_tokens_in_k = total_output_tokens / 1000\n",
    "\n",
    "# Calculate costs\n",
    "input_cost = total_input_tokens_in_k * price_per_1k_input_tokens\n",
    "output_cost = total_output_tokens_in_k * price_per_1k_output_tokens\n",
    "\n",
    "# Total cost\n",
    "total_cost = input_cost + output_cost\n",
    "\n",
    "print(f\"Total cost for 1000 requests: ${total_cost:.2f}\")"
   ]
  },
  {
   "cell_type": "code",
   "execution_count": null,
   "id": "1779f775-da3b-45f9-b837-9a9545882135",
   "metadata": {},
   "outputs": [],
   "source": []
  }
 ],
 "metadata": {
  "kernelspec": {
   "display_name": "Python 3 (ipykernel)",
   "language": "python",
   "name": "python3"
  },
  "language_info": {
   "codemirror_mode": {
    "name": "ipython",
    "version": 3
   },
   "file_extension": ".py",
   "mimetype": "text/x-python",
   "name": "python",
   "nbconvert_exporter": "python",
   "pygments_lexer": "ipython3",
   "version": "3.10.13"
  }
 },
 "nbformat": 4,
 "nbformat_minor": 5
}
