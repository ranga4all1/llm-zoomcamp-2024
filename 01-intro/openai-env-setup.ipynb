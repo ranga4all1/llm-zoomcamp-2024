{
 "cells": [
  {
   "cell_type": "markdown",
   "id": "82b4fd69-c159-453b-a2c1-241c5e3e94e1",
   "metadata": {},
   "source": [
    "# Verify OPENAI API Key setup\n",
    "\n",
    "- Get OPENAI_API_KEY from platform.openai.com\n",
    "- Use the key by using either of these methods\n",
    "    - Use `client = OpenAI(api_key=OPENAI_API_KEY)`\n",
    "    - set env vaiable `export OPENAI_API_KEY=\"<your_api_key>\"`"
   ]
  },
  {
   "cell_type": "code",
   "execution_count": 1,
   "id": "ef36d2d0-e9df-45a2-a3b3-2cd995ab1fba",
   "metadata": {},
   "outputs": [],
   "source": [
    "import openai"
   ]
  },
  {
   "cell_type": "code",
   "execution_count": 2,
   "id": "76aa146d-f353-4a11-bbd4-f04531c57465",
   "metadata": {},
   "outputs": [],
   "source": [
    "from openai import OpenAI"
   ]
  },
  {
   "cell_type": "code",
   "execution_count": 3,
   "id": "fcfaf469",
   "metadata": {},
   "outputs": [],
   "source": [
    "import os"
   ]
  },
  {
   "cell_type": "code",
   "execution_count": 5,
   "id": "781b80c0",
   "metadata": {},
   "outputs": [],
   "source": [
    "# Only to verify that OPENAI_API_KEY is set as env variable\n",
    "# os.environ"
   ]
  },
  {
   "cell_type": "code",
   "execution_count": 9,
   "id": "4d36d42c-3d2d-4a75-851c-06082e135915",
   "metadata": {},
   "outputs": [],
   "source": [
    "client = OpenAI()"
   ]
  },
  {
   "cell_type": "markdown",
   "id": "0faf37e1-a100-4b15-94ce-60fed25ee3b8",
   "metadata": {},
   "source": [
    "## use OPENAI"
   ]
  },
  {
   "cell_type": "code",
   "execution_count": 10,
   "id": "a00a080b-fd1b-40e7-83dc-5c63aea2a1e9",
   "metadata": {},
   "outputs": [],
   "source": [
    "response = client.chat.completions.create(\n",
    "    # model='gpt-3.5-turbo-16k',\n",
    "    model='gpt-4o',\n",
    "    messages=[{\"role\": \"user\", \"content\": \"is it to late to join the course?\"}]\n",
    ")"
   ]
  },
  {
   "cell_type": "code",
   "execution_count": 11,
   "id": "2e350d39-abc2-4c63-b833-64d6f7911b22",
   "metadata": {},
   "outputs": [
    {
     "data": {
      "text/plain": [
       "ChatCompletion(id='chatcmpl-9dznQjIkPI45uNOHKRMfHXZpzlWje', choices=[Choice(finish_reason='stop', index=0, logprobs=None, message=ChatCompletionMessage(content=\"It's difficult to say without more context. Typically, whether it's too late to join a course depends on several factors:\\n\\n1. **Enrollment Deadlines**: Some courses have specific enrollment periods or deadlines. Check with the course provider to see if enrollment is still open.\\n\\n2. **Course Progress**: If the course has already started, consider how far along it is. Joining a course that is halfway through or more might make it difficult to catch up, but it's not impossible.\\n\\n3. **Prerequisites and Requirements**: Ensure you meet any prerequisites and are able to complete any required coursework or attendance.\\n\\n4. **Course Format**: Online courses often provide more flexibility, allowing students to join later and catch up at their own pace. In-person classes might have stricter deadlines.\\n\\n5. **Instructor's Policies**: Some instructors may be more flexible about late enrollments. It's worth contacting the instructor directly to discuss your situation.\\n\\nTo get a definitive answer, contact the institution or organization offering the course. They will provide the most accurate and relevant information regarding enrollment policies and options for joining late.\", role='assistant', function_call=None, tool_calls=None))], created=1719319364, model='gpt-4o-2024-05-13', object='chat.completion', service_tier=None, system_fingerprint='fp_888385ccad', usage=CompletionUsage(completion_tokens=220, prompt_tokens=16, total_tokens=236))"
      ]
     },
     "execution_count": 11,
     "metadata": {},
     "output_type": "execute_result"
    }
   ],
   "source": [
    "response"
   ]
  },
  {
   "cell_type": "code",
   "execution_count": 12,
   "id": "7967ddaa-1a79-4420-9c0d-259911b40a01",
   "metadata": {},
   "outputs": [
    {
     "data": {
      "text/plain": [
       "[Choice(finish_reason='stop', index=0, logprobs=None, message=ChatCompletionMessage(content=\"It's difficult to say without more context. Typically, whether it's too late to join a course depends on several factors:\\n\\n1. **Enrollment Deadlines**: Some courses have specific enrollment periods or deadlines. Check with the course provider to see if enrollment is still open.\\n\\n2. **Course Progress**: If the course has already started, consider how far along it is. Joining a course that is halfway through or more might make it difficult to catch up, but it's not impossible.\\n\\n3. **Prerequisites and Requirements**: Ensure you meet any prerequisites and are able to complete any required coursework or attendance.\\n\\n4. **Course Format**: Online courses often provide more flexibility, allowing students to join later and catch up at their own pace. In-person classes might have stricter deadlines.\\n\\n5. **Instructor's Policies**: Some instructors may be more flexible about late enrollments. It's worth contacting the instructor directly to discuss your situation.\\n\\nTo get a definitive answer, contact the institution or organization offering the course. They will provide the most accurate and relevant information regarding enrollment policies and options for joining late.\", role='assistant', function_call=None, tool_calls=None))]"
      ]
     },
     "execution_count": 12,
     "metadata": {},
     "output_type": "execute_result"
    }
   ],
   "source": [
    "response.choices"
   ]
  },
  {
   "cell_type": "code",
   "execution_count": 13,
   "id": "7efc512e-a5eb-4153-9d52-c7fbaa301501",
   "metadata": {},
   "outputs": [
    {
     "data": {
      "text/plain": [
       "Choice(finish_reason='stop', index=0, logprobs=None, message=ChatCompletionMessage(content=\"It's difficult to say without more context. Typically, whether it's too late to join a course depends on several factors:\\n\\n1. **Enrollment Deadlines**: Some courses have specific enrollment periods or deadlines. Check with the course provider to see if enrollment is still open.\\n\\n2. **Course Progress**: If the course has already started, consider how far along it is. Joining a course that is halfway through or more might make it difficult to catch up, but it's not impossible.\\n\\n3. **Prerequisites and Requirements**: Ensure you meet any prerequisites and are able to complete any required coursework or attendance.\\n\\n4. **Course Format**: Online courses often provide more flexibility, allowing students to join later and catch up at their own pace. In-person classes might have stricter deadlines.\\n\\n5. **Instructor's Policies**: Some instructors may be more flexible about late enrollments. It's worth contacting the instructor directly to discuss your situation.\\n\\nTo get a definitive answer, contact the institution or organization offering the course. They will provide the most accurate and relevant information regarding enrollment policies and options for joining late.\", role='assistant', function_call=None, tool_calls=None))"
      ]
     },
     "execution_count": 13,
     "metadata": {},
     "output_type": "execute_result"
    }
   ],
   "source": [
    "response.choices[0]"
   ]
  },
  {
   "cell_type": "code",
   "execution_count": 14,
   "id": "ee418fc1-19e8-4a30-b806-6431fdc21736",
   "metadata": {},
   "outputs": [
    {
     "data": {
      "text/plain": [
       "\"It's difficult to say without more context. Typically, whether it's too late to join a course depends on several factors:\\n\\n1. **Enrollment Deadlines**: Some courses have specific enrollment periods or deadlines. Check with the course provider to see if enrollment is still open.\\n\\n2. **Course Progress**: If the course has already started, consider how far along it is. Joining a course that is halfway through or more might make it difficult to catch up, but it's not impossible.\\n\\n3. **Prerequisites and Requirements**: Ensure you meet any prerequisites and are able to complete any required coursework or attendance.\\n\\n4. **Course Format**: Online courses often provide more flexibility, allowing students to join later and catch up at their own pace. In-person classes might have stricter deadlines.\\n\\n5. **Instructor's Policies**: Some instructors may be more flexible about late enrollments. It's worth contacting the instructor directly to discuss your situation.\\n\\nTo get a definitive answer, contact the institution or organization offering the course. They will provide the most accurate and relevant information regarding enrollment policies and options for joining late.\""
      ]
     },
     "execution_count": 14,
     "metadata": {},
     "output_type": "execute_result"
    }
   ],
   "source": [
    "response.choices[0].message.content"
   ]
  },
  {
   "cell_type": "code",
   "execution_count": null,
   "id": "ddfa34e8-9a5a-4eb4-8780-f2d377598830",
   "metadata": {},
   "outputs": [],
   "source": []
  }
 ],
 "metadata": {
  "kernelspec": {
   "display_name": "Python 3 (ipykernel)",
   "language": "python",
   "name": "python3"
  },
  "language_info": {
   "codemirror_mode": {
    "name": "ipython",
    "version": 3
   },
   "file_extension": ".py",
   "mimetype": "text/x-python",
   "name": "python",
   "nbconvert_exporter": "python",
   "pygments_lexer": "ipython3",
   "version": "3.10.13"
  }
 },
 "nbformat": 4,
 "nbformat_minor": 5
}
