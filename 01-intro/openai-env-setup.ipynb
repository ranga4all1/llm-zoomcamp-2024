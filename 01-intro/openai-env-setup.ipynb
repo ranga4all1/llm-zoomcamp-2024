{
 "cells": [
  {
   "cell_type": "markdown",
   "id": "82b4fd69-c159-453b-a2c1-241c5e3e94e1",
   "metadata": {},
   "source": [
    "# Verify OPENAI API Key setup"
   ]
  },
  {
   "cell_type": "code",
   "execution_count": 1,
   "id": "ef36d2d0-e9df-45a2-a3b3-2cd995ab1fba",
   "metadata": {},
   "outputs": [],
   "source": [
    "import openai"
   ]
  },
  {
   "cell_type": "code",
   "execution_count": 2,
   "id": "76aa146d-f353-4a11-bbd4-f04531c57465",
   "metadata": {},
   "outputs": [],
   "source": [
    "from openai import OpenAI"
   ]
  },
  {
   "cell_type": "code",
   "execution_count": 3,
   "id": "4d36d42c-3d2d-4a75-851c-06082e135915",
   "metadata": {},
   "outputs": [],
   "source": [
    "client = OpenAI()"
   ]
  },
  {
   "cell_type": "code",
   "execution_count": 4,
   "id": "8481a015-c916-4309-a855-1c3082ef8ea0",
   "metadata": {},
   "outputs": [],
   "source": [
    "import os"
   ]
  },
  {
   "cell_type": "code",
   "execution_count": 6,
   "id": "bb88ef02-7401-4882-8bdf-e9b1a0d5aff1",
   "metadata": {},
   "outputs": [],
   "source": [
    "# Only to verify that OPENAI_API_KEY is set as env variable\n",
    "# os.environ"
   ]
  },
  {
   "cell_type": "markdown",
   "id": "0faf37e1-a100-4b15-94ce-60fed25ee3b8",
   "metadata": {},
   "source": [
    "## use OPENAI"
   ]
  },
  {
   "cell_type": "code",
   "execution_count": 8,
   "id": "a00a080b-fd1b-40e7-83dc-5c63aea2a1e9",
   "metadata": {},
   "outputs": [],
   "source": [
    "response = client.chat.completions.create(\n",
    "    # model='gpt-3.5-turbo-16k',\n",
    "    model='gpt-4o',\n",
    "    messages=[{\"role\": \"user\", \"content\": \"is it to late to join the course?\"}]\n",
    ")"
   ]
  },
  {
   "cell_type": "code",
   "execution_count": 9,
   "id": "2e350d39-abc2-4c63-b833-64d6f7911b22",
   "metadata": {},
   "outputs": [
    {
     "data": {
      "text/plain": [
       "ChatCompletion(id='chatcmpl-9dibt23NmQ9KFcgOcUtcA0a3ppYoV', choices=[Choice(finish_reason='stop', index=0, logprobs=None, message=ChatCompletionMessage(content=\"It depends on the specific course and institution you're referring to. Different courses and institutions have varying enrollment deadlines. Here are some steps you can take to find out if you can still join the course:\\n\\n1. **Check the Course Website**: Look for any information regarding enrollment deadlines.\\n2. **Contact the Course Administrator**: Send an email or call to ask if late enrollment is possible.\\n3. **Institution's Academic Calendar**: Review the academic calendar for any pertinent deadlines.\\n4. **Waitlists**: If the course is full, ask if there's a waitlist you can join.\\n5. **Late Registration Policies**: Inquire about any specific policies regarding late registration, including any additional fees that might apply.\\n\\nIf you can provide more details about the course or institution, I may be able to offer more specific guidance.\", role='assistant', function_call=None, tool_calls=None))], created=1719253301, model='gpt-4o-2024-05-13', object='chat.completion', service_tier=None, system_fingerprint='fp_3e7d703517', usage=CompletionUsage(completion_tokens=167, prompt_tokens=16, total_tokens=183))"
      ]
     },
     "execution_count": 9,
     "metadata": {},
     "output_type": "execute_result"
    }
   ],
   "source": [
    "response"
   ]
  },
  {
   "cell_type": "code",
   "execution_count": 10,
   "id": "7967ddaa-1a79-4420-9c0d-259911b40a01",
   "metadata": {},
   "outputs": [
    {
     "data": {
      "text/plain": [
       "[Choice(finish_reason='stop', index=0, logprobs=None, message=ChatCompletionMessage(content=\"It depends on the specific course and institution you're referring to. Different courses and institutions have varying enrollment deadlines. Here are some steps you can take to find out if you can still join the course:\\n\\n1. **Check the Course Website**: Look for any information regarding enrollment deadlines.\\n2. **Contact the Course Administrator**: Send an email or call to ask if late enrollment is possible.\\n3. **Institution's Academic Calendar**: Review the academic calendar for any pertinent deadlines.\\n4. **Waitlists**: If the course is full, ask if there's a waitlist you can join.\\n5. **Late Registration Policies**: Inquire about any specific policies regarding late registration, including any additional fees that might apply.\\n\\nIf you can provide more details about the course or institution, I may be able to offer more specific guidance.\", role='assistant', function_call=None, tool_calls=None))]"
      ]
     },
     "execution_count": 10,
     "metadata": {},
     "output_type": "execute_result"
    }
   ],
   "source": [
    "response.choices"
   ]
  },
  {
   "cell_type": "code",
   "execution_count": 11,
   "id": "7efc512e-a5eb-4153-9d52-c7fbaa301501",
   "metadata": {},
   "outputs": [
    {
     "data": {
      "text/plain": [
       "Choice(finish_reason='stop', index=0, logprobs=None, message=ChatCompletionMessage(content=\"It depends on the specific course and institution you're referring to. Different courses and institutions have varying enrollment deadlines. Here are some steps you can take to find out if you can still join the course:\\n\\n1. **Check the Course Website**: Look for any information regarding enrollment deadlines.\\n2. **Contact the Course Administrator**: Send an email or call to ask if late enrollment is possible.\\n3. **Institution's Academic Calendar**: Review the academic calendar for any pertinent deadlines.\\n4. **Waitlists**: If the course is full, ask if there's a waitlist you can join.\\n5. **Late Registration Policies**: Inquire about any specific policies regarding late registration, including any additional fees that might apply.\\n\\nIf you can provide more details about the course or institution, I may be able to offer more specific guidance.\", role='assistant', function_call=None, tool_calls=None))"
      ]
     },
     "execution_count": 11,
     "metadata": {},
     "output_type": "execute_result"
    }
   ],
   "source": [
    "response.choices[0]"
   ]
  },
  {
   "cell_type": "code",
   "execution_count": 12,
   "id": "ee418fc1-19e8-4a30-b806-6431fdc21736",
   "metadata": {},
   "outputs": [
    {
     "data": {
      "text/plain": [
       "\"It depends on the specific course and institution you're referring to. Different courses and institutions have varying enrollment deadlines. Here are some steps you can take to find out if you can still join the course:\\n\\n1. **Check the Course Website**: Look for any information regarding enrollment deadlines.\\n2. **Contact the Course Administrator**: Send an email or call to ask if late enrollment is possible.\\n3. **Institution's Academic Calendar**: Review the academic calendar for any pertinent deadlines.\\n4. **Waitlists**: If the course is full, ask if there's a waitlist you can join.\\n5. **Late Registration Policies**: Inquire about any specific policies regarding late registration, including any additional fees that might apply.\\n\\nIf you can provide more details about the course or institution, I may be able to offer more specific guidance.\""
      ]
     },
     "execution_count": 12,
     "metadata": {},
     "output_type": "execute_result"
    }
   ],
   "source": [
    "response.choices[0].message.content"
   ]
  },
  {
   "cell_type": "code",
   "execution_count": null,
   "id": "ddfa34e8-9a5a-4eb4-8780-f2d377598830",
   "metadata": {},
   "outputs": [],
   "source": []
  }
 ],
 "metadata": {
  "kernelspec": {
   "display_name": "Python 3 (ipykernel)",
   "language": "python",
   "name": "python3"
  },
  "language_info": {
   "codemirror_mode": {
    "name": "ipython",
    "version": 3
   },
   "file_extension": ".py",
   "mimetype": "text/x-python",
   "name": "python",
   "nbconvert_exporter": "python",
   "pygments_lexer": "ipython3",
   "version": "3.10.13"
  }
 },
 "nbformat": 4,
 "nbformat_minor": 5
}
